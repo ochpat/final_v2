{
 "cells": [
  {
   "cell_type": "markdown",
   "metadata": {},
   "source": [
    "# Import"
   ]
  },
  {
   "cell_type": "code",
   "execution_count": 314,
   "metadata": {},
   "outputs": [],
   "source": [
    "import numpy as np \n",
    "import matplotlib.pyplot as plt\n",
    "import pandas as pd\n",
    "from datetime import datetime\n",
    "from datetime import timedelta\n",
    "import seaborn as sns\n",
    "import pickle \n",
    "from sklearn.cluster import MiniBatchKMeans\n",
    "from sklearn.preprocessing import StandardScaler\n",
    "from sklearn.decomposition import PCA\n",
    "import json\n",
    "from shapely.geometry import Point, Polygon\n"
   ]
  },
  {
   "cell_type": "markdown",
   "metadata": {},
   "source": [
    "## Data Set"
   ]
  },
  {
   "cell_type": "code",
   "execution_count": 315,
   "metadata": {},
   "outputs": [],
   "source": [
    "path_train = \"/Users/patrickmacclenihan/Desktop/final_project/DATA/Train.csv\"\n",
    "path_test = \"/Users/patrickmacclenihan/Desktop/final_project/DATA/Test.csv\"\n",
    "path_riders =\"/Users/patrickmacclenihan/Desktop/final_project/DATA/Riders.csv\"\n",
    "df_train = pd.read_csv(path_train)\n",
    "df_test = pd.read_csv(path_test)\n",
    "df_riders = pd.read_csv(path_riders)\n"
   ]
  },
  {
   "cell_type": "code",
   "execution_count": 316,
   "metadata": {},
   "outputs": [
    {
     "data": {
      "text/plain": [
       "(21201, 29)"
      ]
     },
     "execution_count": 316,
     "metadata": {},
     "output_type": "execute_result"
    }
   ],
   "source": [
    "df_train.shape"
   ]
  },
  {
   "cell_type": "code",
   "execution_count": 317,
   "metadata": {},
   "outputs": [],
   "source": [
    "df_train= pd.merge(df_train, df_riders , on = \"Rider Id\")\n",
    "df_test= pd.merge(df_test, df_riders , on = \"Rider Id\")\n"
   ]
  },
  {
   "cell_type": "code",
   "execution_count": 318,
   "metadata": {},
   "outputs": [
    {
     "data": {
      "text/html": [
       "<div>\n",
       "<style scoped>\n",
       "    .dataframe tbody tr th:only-of-type {\n",
       "        vertical-align: middle;\n",
       "    }\n",
       "\n",
       "    .dataframe tbody tr th {\n",
       "        vertical-align: top;\n",
       "    }\n",
       "\n",
       "    .dataframe thead th {\n",
       "        text-align: right;\n",
       "    }\n",
       "</style>\n",
       "<table border=\"1\" class=\"dataframe\">\n",
       "  <thead>\n",
       "    <tr style=\"text-align: right;\">\n",
       "      <th></th>\n",
       "      <th>Pickup Lat</th>\n",
       "      <th>Pickup Long</th>\n",
       "      <th>Destination Lat</th>\n",
       "      <th>Destination Long</th>\n",
       "    </tr>\n",
       "  </thead>\n",
       "  <tbody>\n",
       "    <tr>\n",
       "      <th>0</th>\n",
       "      <td>-1.317755</td>\n",
       "      <td>36.830370</td>\n",
       "      <td>-1.300406</td>\n",
       "      <td>36.829741</td>\n",
       "    </tr>\n",
       "    <tr>\n",
       "      <th>1</th>\n",
       "      <td>-1.326774</td>\n",
       "      <td>36.787807</td>\n",
       "      <td>-1.356237</td>\n",
       "      <td>36.904295</td>\n",
       "    </tr>\n",
       "    <tr>\n",
       "      <th>2</th>\n",
       "      <td>-1.255189</td>\n",
       "      <td>36.782203</td>\n",
       "      <td>-1.273412</td>\n",
       "      <td>36.818206</td>\n",
       "    </tr>\n",
       "    <tr>\n",
       "      <th>3</th>\n",
       "      <td>-1.290315</td>\n",
       "      <td>36.757377</td>\n",
       "      <td>-1.223520</td>\n",
       "      <td>36.802061</td>\n",
       "    </tr>\n",
       "    <tr>\n",
       "      <th>4</th>\n",
       "      <td>-1.273524</td>\n",
       "      <td>36.799220</td>\n",
       "      <td>-1.300431</td>\n",
       "      <td>36.752427</td>\n",
       "    </tr>\n",
       "  </tbody>\n",
       "</table>\n",
       "</div>"
      ],
      "text/plain": [
       "   Pickup Lat  Pickup Long  Destination Lat  Destination Long\n",
       "0   -1.317755    36.830370        -1.300406         36.829741\n",
       "1   -1.326774    36.787807        -1.356237         36.904295\n",
       "2   -1.255189    36.782203        -1.273412         36.818206\n",
       "3   -1.290315    36.757377        -1.223520         36.802061\n",
       "4   -1.273524    36.799220        -1.300431         36.752427"
      ]
     },
     "execution_count": 318,
     "metadata": {},
     "output_type": "execute_result"
    }
   ],
   "source": [
    "df_train[[\"Pickup Lat\", \"Pickup Long\", \"Destination Lat\", \"Destination Long\"]].head()"
   ]
  },
  {
   "cell_type": "markdown",
   "metadata": {},
   "source": [
    "# Preparation"
   ]
  },
  {
   "cell_type": "markdown",
   "metadata": {},
   "source": [
    "## Converting to Date Time needed columns"
   ]
  },
  {
   "cell_type": "code",
   "execution_count": 319,
   "metadata": {},
   "outputs": [],
   "source": [
    "time_to_convert_in_train = [\"Confirmation - Time\",\"Placement - Time\",'Arrival at Pickup - Time',\n",
    "       'Pickup - Time', 'Arrival at Destination - Time']\n",
    "\n",
    "time_to_convert_in_test = [\"Confirmation - Time\",\"Placement - Time\",'Arrival at Pickup - Time',\n",
    "       'Pickup - Time']\n",
    "\n",
    "for column in time_to_convert_in_train : \n",
    "    df_train[column] = df_train[column].apply(lambda x : pd.to_datetime(x).strftime('%H:%M:%S'))\n",
    "    df_train[column] = pd.to_datetime(df_train[column], format='%H:%M:%S').dt.time\n",
    "\n",
    "for column in time_to_convert_in_test :    \n",
    "    \n",
    "    df_test[column] = df_test[column].apply(lambda x : pd.to_datetime(x).strftime('%H:%M:%S'))\n",
    "    df_test[column] = pd.to_datetime(df_test[column], format='%H:%M:%S').dt.time"
   ]
  },
  {
   "cell_type": "code",
   "execution_count": 320,
   "metadata": {},
   "outputs": [],
   "source": [
    "#PickUp Hour\n",
    "df_train['Pickup_Hour'] = df_train['Pickup - Time'].apply(lambda x : x.hour)\n",
    "\n",
    "df_test['Pickup_Hour'] = df_test['Pickup - Time'].apply(lambda x : x.hour)\n"
   ]
  },
  {
   "cell_type": "markdown",
   "metadata": {},
   "source": [
    "## Nan Values in Temperature"
   ]
  },
  {
   "cell_type": "code",
   "execution_count": 321,
   "metadata": {},
   "outputs": [],
   "source": [
    "from sklearn.impute import KNNImputer\n",
    "\n",
    "#KNN\n",
    "KNN_imputer = KNNImputer(n_neighbors=10)\n",
    "\n",
    "#On train\n",
    "X_KNN = KNN_imputer.fit_transform(df_train[[\"Pickup_Hour\", \"Temperature\"]])\n",
    "df_train[\"Temperature\"] = X_KNN[:,1]\n",
    "\n",
    "#On test\n",
    "X_KNN_test = KNN_imputer.transform(df_test[[\"Pickup_Hour\", \"Temperature\"]])\n",
    "df_test[\"Temperature\"] = X_KNN_test[:,1]\n",
    "\n"
   ]
  },
  {
   "cell_type": "code",
   "execution_count": 323,
   "metadata": {
    "scrolled": true
   },
   "outputs": [
    {
     "data": {
      "text/plain": [
       "Order No                                         0\n",
       "User Id                                          0\n",
       "Vehicle Type                                     0\n",
       "Platform Type                                    0\n",
       "Personal or Business                             0\n",
       "Placement - Day of Month                         0\n",
       "Placement - Weekday (Mo = 1)                     0\n",
       "Placement - Time                                 0\n",
       "Confirmation - Day of Month                      0\n",
       "Confirmation - Weekday (Mo = 1)                  0\n",
       "Confirmation - Time                              0\n",
       "Arrival at Pickup - Day of Month                 0\n",
       "Arrival at Pickup - Weekday (Mo = 1)             0\n",
       "Arrival at Pickup - Time                         0\n",
       "Pickup - Day of Month                            0\n",
       "Pickup - Weekday (Mo = 1)                        0\n",
       "Pickup - Time                                    0\n",
       "Arrival at Destination - Day of Month            0\n",
       "Arrival at Destination - Weekday (Mo = 1)        0\n",
       "Arrival at Destination - Time                    0\n",
       "Distance (KM)                                    0\n",
       "Temperature                                      0\n",
       "Precipitation in millimeters                 20649\n",
       "Pickup Lat                                       0\n",
       "Pickup Long                                      0\n",
       "Destination Lat                                  0\n",
       "Destination Long                                 0\n",
       "Rider Id                                         0\n",
       "Time from Pickup to Arrival                      0\n",
       "No_Of_Orders                                     0\n",
       "Age                                              0\n",
       "Average_Rating                                   0\n",
       "No_of_Ratings                                    0\n",
       "Pickup_Hour                                      0\n",
       "dtype: int64"
      ]
     },
     "execution_count": 323,
     "metadata": {},
     "output_type": "execute_result"
    }
   ],
   "source": [
    "df_train.isna().sum()"
   ]
  },
  {
   "cell_type": "markdown",
   "metadata": {},
   "source": [
    "## Dropping Duplicates"
   ]
  },
  {
   "cell_type": "code",
   "execution_count": 324,
   "metadata": {},
   "outputs": [],
   "source": [
    "df_train.drop_duplicates(inplace= True )\n",
    "df_test.drop_duplicates(inplace= True )\n"
   ]
  },
  {
   "cell_type": "markdown",
   "metadata": {},
   "source": [
    "## Remove Speed Outliers"
   ]
  },
  {
   "cell_type": "code",
   "execution_count": 325,
   "metadata": {},
   "outputs": [],
   "source": [
    "df_train[\"Speed_in_km/h\"] = df_train[\"Distance (KM)\"] / df_train['Time from Pickup to Arrival']*3600 "
   ]
  },
  {
   "cell_type": "code",
   "execution_count": 326,
   "metadata": {},
   "outputs": [
    {
     "data": {
      "text/plain": [
       "0        19.328859\n",
       "1        24.948025\n",
       "2         8.260038\n",
       "3        21.701273\n",
       "4        15.730337\n",
       "           ...    \n",
       "21196    11.751904\n",
       "21197     9.266409\n",
       "21198    10.421836\n",
       "21199    10.041841\n",
       "21200    21.857923\n",
       "Name: Speed_in_km/h, Length: 21201, dtype: float64"
      ]
     },
     "execution_count": 326,
     "metadata": {},
     "output_type": "execute_result"
    }
   ],
   "source": [
    "df_train[\"Speed_in_km/h\"]"
   ]
  },
  {
   "cell_type": "code",
   "execution_count": 327,
   "metadata": {},
   "outputs": [],
   "source": [
    "def error_detection(x) : \n",
    "    if x > 50 or x < 5 : \n",
    "        return \"Yes\"\n",
    "    else : \n",
    "        return \"No\"\n",
    "\n",
    "df_train[\"Overspeed\"] = df_train[\"Speed_in_km/h\"].apply(lambda x : error_detection(x))"
   ]
  },
  {
   "cell_type": "code",
   "execution_count": 328,
   "metadata": {},
   "outputs": [
    {
     "data": {
      "text/plain": [
       "array(['No', 'Yes'], dtype=object)"
      ]
     },
     "execution_count": 328,
     "metadata": {},
     "output_type": "execute_result"
    }
   ],
   "source": [
    "df_train[\"Overspeed\"].unique()"
   ]
  },
  {
   "cell_type": "code",
   "execution_count": 329,
   "metadata": {},
   "outputs": [
    {
     "name": "stderr",
     "output_type": "stream",
     "text": [
      "/Users/patrickmacclenihan/.pyenv/versions/3.7.6/envs/vivadata/lib/python3.7/site-packages/pandas/core/frame.py:3997: SettingWithCopyWarning: \n",
      "A value is trying to be set on a copy of a slice from a DataFrame\n",
      "\n",
      "See the caveats in the documentation: https://pandas.pydata.org/pandas-docs/stable/user_guide/indexing.html#returning-a-view-versus-a-copy\n",
      "  errors=errors,\n"
     ]
    }
   ],
   "source": [
    "df_train_withoutliers = df_train[df_train[\"Overspeed\"] == \"No\"]\n",
    "df_train_withoutliers.drop(\"Overspeed\" , axis = 1 , inplace = True )"
   ]
  },
  {
   "cell_type": "markdown",
   "metadata": {},
   "source": [
    "## Object columns to convert int / float"
   ]
  },
  {
   "cell_type": "code",
   "execution_count": 330,
   "metadata": {},
   "outputs": [],
   "source": [
    "to_convert = [\"Placement - Time\",\"Confirmation - Time\", \"Arrival at Pickup - Time\",       \n",
    "              \"Pickup - Time\"]  "
   ]
  },
  {
   "cell_type": "markdown",
   "metadata": {},
   "source": [
    "### Make Binary"
   ]
  },
  {
   "cell_type": "code",
   "execution_count": 331,
   "metadata": {},
   "outputs": [],
   "source": [
    "def binary_personnal_business(x) : \n",
    "    if x == \"Personal\" : \n",
    "        return  1 \n",
    "    else : \n",
    "        return  0 "
   ]
  },
  {
   "cell_type": "code",
   "execution_count": 332,
   "metadata": {},
   "outputs": [
    {
     "name": "stderr",
     "output_type": "stream",
     "text": [
      "/Users/patrickmacclenihan/.pyenv/versions/3.7.6/envs/vivadata/lib/python3.7/site-packages/ipykernel_launcher.py:1: SettingWithCopyWarning: \n",
      "A value is trying to be set on a copy of a slice from a DataFrame.\n",
      "Try using .loc[row_indexer,col_indexer] = value instead\n",
      "\n",
      "See the caveats in the documentation: https://pandas.pydata.org/pandas-docs/stable/user_guide/indexing.html#returning-a-view-versus-a-copy\n",
      "  \"\"\"Entry point for launching an IPython kernel.\n"
     ]
    }
   ],
   "source": [
    "df_train_withoutliers['Personal or Business'] = df_train_withoutliers['Personal or Business'].apply(binary_personnal_business)\n",
    "df_test['Personal or Business'] = df_test['Personal or Business'].apply(binary_personnal_business)\n"
   ]
  },
  {
   "cell_type": "code",
   "execution_count": 333,
   "metadata": {},
   "outputs": [],
   "source": [
    "#Reassigning\n",
    "df_train_numerical = df_train_withoutliers\n",
    "df_test_numerical  = df_test"
   ]
  },
  {
   "cell_type": "markdown",
   "metadata": {},
   "source": [
    "# Features Engineering"
   ]
  },
  {
   "cell_type": "markdown",
   "metadata": {},
   "source": [
    "## Week-End Feature"
   ]
  },
  {
   "cell_type": "code",
   "execution_count": 334,
   "metadata": {},
   "outputs": [
    {
     "name": "stderr",
     "output_type": "stream",
     "text": [
      "/Users/patrickmacclenihan/.pyenv/versions/3.7.6/envs/vivadata/lib/python3.7/site-packages/ipykernel_launcher.py:7: SettingWithCopyWarning: \n",
      "A value is trying to be set on a copy of a slice from a DataFrame.\n",
      "Try using .loc[row_indexer,col_indexer] = value instead\n",
      "\n",
      "See the caveats in the documentation: https://pandas.pydata.org/pandas-docs/stable/user_guide/indexing.html#returning-a-view-versus-a-copy\n",
      "  import sys\n"
     ]
    }
   ],
   "source": [
    "def is_week_end(x): \n",
    "    if x > 5 : \n",
    "        return 1\n",
    "    else :\n",
    "        return 0\n",
    "    \n",
    "df_train_numerical[\"Week_end\"] = df_train_numerical[\"Placement - Weekday (Mo = 1)\"].apply(is_week_end)\n",
    "df_test_numerical[\"Week_end\"] = df_test_numerical[\"Placement - Weekday (Mo = 1)\"].apply(is_week_end)"
   ]
  },
  {
   "cell_type": "markdown",
   "metadata": {},
   "source": [
    "## Uber Data"
   ]
  },
  {
   "cell_type": "markdown",
   "metadata": {},
   "source": [
    "### Import"
   ]
  },
  {
   "cell_type": "code",
   "execution_count": 335,
   "metadata": {},
   "outputs": [],
   "source": [
    "\n",
    "with open('/Users/patrickmacclenihan/Desktop/final_project/DATA/Uber/nairobi_sublocations.json') as json_file:\n",
    "    data = json.load(json_file)"
   ]
  },
  {
   "cell_type": "code",
   "execution_count": 336,
   "metadata": {},
   "outputs": [],
   "source": [
    "#Gathering Movments Id and Areas\n",
    "areas,ids,polygons = [],[],[]\n",
    "for d in range(len(data[\"features\"])) : \n",
    "    areas.append(data[\"features\"][d][\"properties\"][\"DISPLAY_NAME\"])\n",
    "    ids.append(data[\"features\"][d][\"properties\"][\"MOVEMENT_ID\"])\n",
    "    #polygons.append(data[\"features\"][d][\"geometry\"][\"coordinates\"])\n",
    "\n",
    "#Gathering Polygons\n",
    "\n",
    "for d in range(len(data[\"features\"])) : \n",
    "    coord = []\n",
    "    polygons.append(coord)\n",
    "    for i in range(len(data[\"features\"][d][\"geometry\"][\"coordinates\"][0])) : \n",
    "        coord_tuple = data[\"features\"][d][\"geometry\"][\"coordinates\"][0][i]\n",
    "        coord.append(coord_tuple)\n"
   ]
  },
  {
   "cell_type": "markdown",
   "metadata": {},
   "source": [
    "### Defining PickUp and Destination Id "
   ]
  },
  {
   "cell_type": "code",
   "execution_count": 337,
   "metadata": {},
   "outputs": [
    {
     "name": "stderr",
     "output_type": "stream",
     "text": [
      "/Users/patrickmacclenihan/.pyenv/versions/3.7.6/envs/vivadata/lib/python3.7/site-packages/ipykernel_launcher.py:24: SettingWithCopyWarning: \n",
      "A value is trying to be set on a copy of a slice from a DataFrame.\n",
      "Try using .loc[row_indexer,col_indexer] = value instead\n",
      "\n",
      "See the caveats in the documentation: https://pandas.pydata.org/pandas-docs/stable/user_guide/indexing.html#returning-a-view-versus-a-copy\n",
      "/Users/patrickmacclenihan/.pyenv/versions/3.7.6/envs/vivadata/lib/python3.7/site-packages/ipykernel_launcher.py:25: SettingWithCopyWarning: \n",
      "A value is trying to be set on a copy of a slice from a DataFrame.\n",
      "Try using .loc[row_indexer,col_indexer] = value instead\n",
      "\n",
      "See the caveats in the documentation: https://pandas.pydata.org/pandas-docs/stable/user_guide/indexing.html#returning-a-view-versus-a-copy\n",
      "/Users/patrickmacclenihan/.pyenv/versions/3.7.6/envs/vivadata/lib/python3.7/site-packages/ipykernel_launcher.py:27: SettingWithCopyWarning: \n",
      "A value is trying to be set on a copy of a slice from a DataFrame.\n",
      "Try using .loc[row_indexer,col_indexer] = value instead\n",
      "\n",
      "See the caveats in the documentation: https://pandas.pydata.org/pandas-docs/stable/user_guide/indexing.html#returning-a-view-versus-a-copy\n",
      "/Users/patrickmacclenihan/.pyenv/versions/3.7.6/envs/vivadata/lib/python3.7/site-packages/ipykernel_launcher.py:28: SettingWithCopyWarning: \n",
      "A value is trying to be set on a copy of a slice from a DataFrame.\n",
      "Try using .loc[row_indexer,col_indexer] = value instead\n",
      "\n",
      "See the caveats in the documentation: https://pandas.pydata.org/pandas-docs/stable/user_guide/indexing.html#returning-a-view-versus-a-copy\n"
     ]
    }
   ],
   "source": [
    "def uber_movement_id(longitude, lattitude) : \n",
    "    point = Point(longitude, lattitude)\n",
    "    for i in range(len(polygons)): \n",
    "        if point.within(Polygon(polygons[i])) == True : \n",
    "            return int(ids[i])\n",
    "        \n",
    "        if point.within(Polygon(polygons[i])) == False : \n",
    "            distances = []\n",
    "            for i in range(len(polygons)): \n",
    "                distances.append(Polygon(polygons[i]).distance(point))\n",
    "            \n",
    "            polygon_id = distances.index(min(distances))\n",
    "            return  polygon_id+1\n",
    "        \n",
    "            \n",
    "\n",
    "def merge_pickup_lat_long_cols(series): \n",
    "    return (series['Pickup Long'], series['Pickup Lat'])\n",
    "def merge_destination_lat_long_cols(series): \n",
    "    return (series['Destination Long'], series['Destination Lat'])\n",
    "\n",
    "\n",
    "### Adding Uber Features to Train\n",
    "df_train_numerical['pickup_long_lat']= df_train_numerical.apply(merge_pickup_lat_long_cols, axis=1)\n",
    "df_train_numerical['destination_long_lat']= df_train_numerical.apply(merge_destination_lat_long_cols, axis=1)\n",
    "\n",
    "df_train_numerical[\"Pickup_Id\"] = df_train_numerical['pickup_long_lat'].apply(lambda x : uber_movement_id(x[0],x[1]))\n",
    "df_train_numerical[\"Destination_Id\"] = df_train_numerical['destination_long_lat'].apply(lambda x : uber_movement_id(x[0],x[1]))\n",
    "\n",
    "df_train_numerical[\"Pickup_Id\"].isna().sum(), df_train_numerical[\"Destination_Id\"].isna().sum() #,df_train[\"Destination_Id\"].isna().sum()  \n",
    "\n",
    "\n",
    "\n",
    "### Adding Uber Features to Test\n",
    "\n",
    "df_test_numerical['pickup_long_lat']= df_test_numerical.apply(merge_pickup_lat_long_cols, axis=1)\n",
    "df_test_numerical['destination_long_lat']= df_test_numerical.apply(merge_destination_lat_long_cols, axis=1)\n",
    "\n",
    "df_test_numerical[\"Pickup_Id\"] = df_test_numerical['pickup_long_lat'].apply(lambda x : uber_movement_id(x[0],x[1]))\n",
    "df_test_numerical[\"Destination_Id\"] = df_test_numerical['destination_long_lat'].apply(lambda x : uber_movement_id(x[0],x[1]))\n"
   ]
  },
  {
   "cell_type": "code",
   "execution_count": 338,
   "metadata": {},
   "outputs": [
    {
     "data": {
      "text/plain": [
       "85"
      ]
     },
     "execution_count": 338,
     "metadata": {},
     "output_type": "execute_result"
    }
   ],
   "source": [
    "df_test_numerical[\"Pickup_Id\"].nunique()"
   ]
  },
  {
   "cell_type": "markdown",
   "metadata": {},
   "source": [
    "### Adding Hourly Travel Time for Week-Day & WeekEnd "
   ]
  },
  {
   "cell_type": "code",
   "execution_count": 339,
   "metadata": {},
   "outputs": [],
   "source": [
    "import pickle\n",
    "df_speed = pickle.load( open( \"/Users/patrickmacclenihan/Final_Project_Viva_Data_2020/travel_time\", \"rb\" ) )"
   ]
  },
  {
   "cell_type": "code",
   "execution_count": 340,
   "metadata": {},
   "outputs": [],
   "source": [
    "#CREATION OF UBER Df\n",
    "\n",
    "#MEAN TRAVEL TIME \n",
    "#aggregation per source & destination ids, hour of the day and week end or not)\n",
    "grouped_multiple_speed_uber = df_speed.groupby([\"sourceid\",\"dstid\",\"hod\", \"week_end_or_not\"]).agg({\"mean_travel_time\": ['mean']})\n",
    "grouped_multiple_speed_uber.columns = ['mean_travel_time']\n",
    "grouped_multiple_speed_uber = grouped_multiple_speed_uber.reset_index()\n",
    "grouped_multiple_speed_uber.head()                                \n",
    "\n",
    "#STD TRAVEL TIME \n",
    "#aggregation per source & destination ids, hour of the day and week end or not)\n",
    "grouped_std_time_uber = df_speed.groupby([\"sourceid\",\"dstid\",\"hod\", \"week_end_or_not\"]).agg({\"standard_deviation_travel_time\": ['mean']})\n",
    "grouped_std_time_uber.columns = ['std_travel_time']\n",
    "grouped_std_time_uber =grouped_std_time_uber.reset_index()\n",
    "\n",
    "#UBER DF CREATION\n",
    "#Merging to get one Uber dataFrame \n",
    "df_uber = pd.merge(grouped_std_time_uber, grouped_multiple_speed_uber,  \n",
    "                  how='left', \n",
    "                  left_on=[\"sourceid\",\"dstid\", \"hod\",\"week_end_or_not\" ], \n",
    "                  right_on = [\"sourceid\",\"dstid\", \"hod\",\"week_end_or_not\"]\n",
    "                 )\n",
    "\n",
    "\n",
    "                                "
   ]
  },
  {
   "cell_type": "markdown",
   "metadata": {},
   "source": [
    "### Mean Travel Time "
   ]
  },
  {
   "cell_type": "code",
   "execution_count": 341,
   "metadata": {},
   "outputs": [],
   "source": [
    "#Merging Train to Uber to add mean_travel_time\n",
    "df_train_with_uber = pd.merge(df_train_numerical, df_uber,  \n",
    "                  how='left', \n",
    "                  left_on=['Pickup_Hour','Week_end', \"Pickup_Id\" , \"Destination_Id\"], \n",
    "                  right_on = [\"hod\",\"week_end_or_not\", \"sourceid\" , \"dstid\"]\n",
    "                 )\n",
    "\n",
    "#Merging Test to Uber to add mean_travel_time \n",
    "df_test_with_uber = pd.merge(df_test_numerical, df_uber,  \n",
    "                  how='left', \n",
    "                  left_on=['Pickup_Hour','Week_end', \"Pickup_Id\" , \"Destination_Id\"], \n",
    "                  right_on = [\"hod\",\"week_end_or_not\", \"sourceid\" , \"dstid\"]\n",
    "                 )\n"
   ]
  },
  {
   "cell_type": "code",
   "execution_count": 395,
   "metadata": {},
   "outputs": [
    {
     "data": {
      "text/html": [
       "<div>\n",
       "<style scoped>\n",
       "    .dataframe tbody tr th:only-of-type {\n",
       "        vertical-align: middle;\n",
       "    }\n",
       "\n",
       "    .dataframe tbody tr th {\n",
       "        vertical-align: top;\n",
       "    }\n",
       "\n",
       "    .dataframe thead th {\n",
       "        text-align: right;\n",
       "    }\n",
       "</style>\n",
       "<table border=\"1\" class=\"dataframe\">\n",
       "  <thead>\n",
       "    <tr style=\"text-align: right;\">\n",
       "      <th></th>\n",
       "      <th>Order No</th>\n",
       "      <th>User Id</th>\n",
       "      <th>Vehicle Type</th>\n",
       "      <th>Platform Type</th>\n",
       "      <th>Personal or Business</th>\n",
       "      <th>Placement - Day of Month</th>\n",
       "      <th>Placement - Weekday (Mo = 1)</th>\n",
       "      <th>Placement - Time</th>\n",
       "      <th>Confirmation - Day of Month</th>\n",
       "      <th>Confirmation - Weekday (Mo = 1)</th>\n",
       "      <th>...</th>\n",
       "      <th>pickup_long_lat</th>\n",
       "      <th>destination_long_lat</th>\n",
       "      <th>Pickup_Id</th>\n",
       "      <th>Destination_Id</th>\n",
       "      <th>sourceid</th>\n",
       "      <th>dstid</th>\n",
       "      <th>hod</th>\n",
       "      <th>week_end_or_not</th>\n",
       "      <th>std_travel_time</th>\n",
       "      <th>mean_travel_time</th>\n",
       "    </tr>\n",
       "  </thead>\n",
       "  <tbody>\n",
       "    <tr>\n",
       "      <th>44</th>\n",
       "      <td>Order_No_53</td>\n",
       "      <td>User_Id_1926</td>\n",
       "      <td>Bike</td>\n",
       "      <td>3</td>\n",
       "      <td>0</td>\n",
       "      <td>6</td>\n",
       "      <td>4</td>\n",
       "      <td>10:10:37</td>\n",
       "      <td>6</td>\n",
       "      <td>4</td>\n",
       "      <td>...</td>\n",
       "      <td>(36.8925345, -1.34364)</td>\n",
       "      <td>(36.9076533, -1.3065588)</td>\n",
       "      <td>76</td>\n",
       "      <td>76</td>\n",
       "      <td>NaN</td>\n",
       "      <td>NaN</td>\n",
       "      <td>NaN</td>\n",
       "      <td>NaN</td>\n",
       "      <td>NaN</td>\n",
       "      <td>NaN</td>\n",
       "    </tr>\n",
       "    <tr>\n",
       "      <th>66</th>\n",
       "      <td>Order_No_1899</td>\n",
       "      <td>User_Id_265</td>\n",
       "      <td>Bike</td>\n",
       "      <td>3</td>\n",
       "      <td>0</td>\n",
       "      <td>30</td>\n",
       "      <td>2</td>\n",
       "      <td>12:39:25</td>\n",
       "      <td>30</td>\n",
       "      <td>2</td>\n",
       "      <td>...</td>\n",
       "      <td>(36.843419399999995, -1.3082842)</td>\n",
       "      <td>(36.828195, -1.300921)</td>\n",
       "      <td>81</td>\n",
       "      <td>81</td>\n",
       "      <td>NaN</td>\n",
       "      <td>NaN</td>\n",
       "      <td>NaN</td>\n",
       "      <td>NaN</td>\n",
       "      <td>NaN</td>\n",
       "      <td>NaN</td>\n",
       "    </tr>\n",
       "    <tr>\n",
       "      <th>137</th>\n",
       "      <td>Order_No_12429</td>\n",
       "      <td>User_Id_136</td>\n",
       "      <td>Bike</td>\n",
       "      <td>3</td>\n",
       "      <td>0</td>\n",
       "      <td>11</td>\n",
       "      <td>2</td>\n",
       "      <td>13:51:40</td>\n",
       "      <td>11</td>\n",
       "      <td>2</td>\n",
       "      <td>...</td>\n",
       "      <td>(36.7445491, -1.3360945)</td>\n",
       "      <td>(36.721658399999995, -1.3254522)</td>\n",
       "      <td>91</td>\n",
       "      <td>91</td>\n",
       "      <td>NaN</td>\n",
       "      <td>NaN</td>\n",
       "      <td>NaN</td>\n",
       "      <td>NaN</td>\n",
       "      <td>NaN</td>\n",
       "      <td>NaN</td>\n",
       "    </tr>\n",
       "    <tr>\n",
       "      <th>182</th>\n",
       "      <td>Order_No_26059</td>\n",
       "      <td>User_Id_3517</td>\n",
       "      <td>Bike</td>\n",
       "      <td>3</td>\n",
       "      <td>0</td>\n",
       "      <td>30</td>\n",
       "      <td>2</td>\n",
       "      <td>12:59:15</td>\n",
       "      <td>30</td>\n",
       "      <td>2</td>\n",
       "      <td>...</td>\n",
       "      <td>(36.808679600000005, -1.2546732)</td>\n",
       "      <td>(36.799343900000004, -1.2599563)</td>\n",
       "      <td>28</td>\n",
       "      <td>28</td>\n",
       "      <td>NaN</td>\n",
       "      <td>NaN</td>\n",
       "      <td>NaN</td>\n",
       "      <td>NaN</td>\n",
       "      <td>NaN</td>\n",
       "      <td>NaN</td>\n",
       "    </tr>\n",
       "    <tr>\n",
       "      <th>204</th>\n",
       "      <td>Order_No_16321</td>\n",
       "      <td>User_Id_1642</td>\n",
       "      <td>Bike</td>\n",
       "      <td>3</td>\n",
       "      <td>0</td>\n",
       "      <td>27</td>\n",
       "      <td>3</td>\n",
       "      <td>13:59:08</td>\n",
       "      <td>27</td>\n",
       "      <td>3</td>\n",
       "      <td>...</td>\n",
       "      <td>(36.7960153, -1.2726506000000002)</td>\n",
       "      <td>(36.7796691, -1.2789469)</td>\n",
       "      <td>48</td>\n",
       "      <td>48</td>\n",
       "      <td>NaN</td>\n",
       "      <td>NaN</td>\n",
       "      <td>NaN</td>\n",
       "      <td>NaN</td>\n",
       "      <td>NaN</td>\n",
       "      <td>NaN</td>\n",
       "    </tr>\n",
       "    <tr>\n",
       "      <th>...</th>\n",
       "      <td>...</td>\n",
       "      <td>...</td>\n",
       "      <td>...</td>\n",
       "      <td>...</td>\n",
       "      <td>...</td>\n",
       "      <td>...</td>\n",
       "      <td>...</td>\n",
       "      <td>...</td>\n",
       "      <td>...</td>\n",
       "      <td>...</td>\n",
       "      <td>...</td>\n",
       "      <td>...</td>\n",
       "      <td>...</td>\n",
       "      <td>...</td>\n",
       "      <td>...</td>\n",
       "      <td>...</td>\n",
       "      <td>...</td>\n",
       "      <td>...</td>\n",
       "      <td>...</td>\n",
       "      <td>...</td>\n",
       "      <td>...</td>\n",
       "    </tr>\n",
       "    <tr>\n",
       "      <th>19637</th>\n",
       "      <td>Order_No_20326</td>\n",
       "      <td>User_Id_552</td>\n",
       "      <td>Bike</td>\n",
       "      <td>3</td>\n",
       "      <td>0</td>\n",
       "      <td>18</td>\n",
       "      <td>4</td>\n",
       "      <td>12:05:26</td>\n",
       "      <td>18</td>\n",
       "      <td>4</td>\n",
       "      <td>...</td>\n",
       "      <td>(36.930829700000004, -1.335477)</td>\n",
       "      <td>(36.904295399999995, -1.3562374)</td>\n",
       "      <td>76</td>\n",
       "      <td>76</td>\n",
       "      <td>NaN</td>\n",
       "      <td>NaN</td>\n",
       "      <td>NaN</td>\n",
       "      <td>NaN</td>\n",
       "      <td>NaN</td>\n",
       "      <td>NaN</td>\n",
       "    </tr>\n",
       "    <tr>\n",
       "      <th>19659</th>\n",
       "      <td>Order_No_3409</td>\n",
       "      <td>User_Id_3283</td>\n",
       "      <td>Bike</td>\n",
       "      <td>3</td>\n",
       "      <td>0</td>\n",
       "      <td>7</td>\n",
       "      <td>2</td>\n",
       "      <td>14:39:57</td>\n",
       "      <td>7</td>\n",
       "      <td>2</td>\n",
       "      <td>...</td>\n",
       "      <td>(36.799248999999996, -1.266837)</td>\n",
       "      <td>(36.781805, -1.2628473)</td>\n",
       "      <td>40</td>\n",
       "      <td>40</td>\n",
       "      <td>NaN</td>\n",
       "      <td>NaN</td>\n",
       "      <td>NaN</td>\n",
       "      <td>NaN</td>\n",
       "      <td>NaN</td>\n",
       "      <td>NaN</td>\n",
       "    </tr>\n",
       "    <tr>\n",
       "      <th>19660</th>\n",
       "      <td>Order_No_21249</td>\n",
       "      <td>User_Id_640</td>\n",
       "      <td>Bike</td>\n",
       "      <td>3</td>\n",
       "      <td>0</td>\n",
       "      <td>22</td>\n",
       "      <td>4</td>\n",
       "      <td>10:59:18</td>\n",
       "      <td>22</td>\n",
       "      <td>4</td>\n",
       "      <td>...</td>\n",
       "      <td>(36.7848695, -1.304033)</td>\n",
       "      <td>(36.790159100000004, -1.3004846)</td>\n",
       "      <td>90</td>\n",
       "      <td>90</td>\n",
       "      <td>NaN</td>\n",
       "      <td>NaN</td>\n",
       "      <td>NaN</td>\n",
       "      <td>NaN</td>\n",
       "      <td>NaN</td>\n",
       "      <td>NaN</td>\n",
       "    </tr>\n",
       "    <tr>\n",
       "      <th>19667</th>\n",
       "      <td>Order_No_7005</td>\n",
       "      <td>User_Id_2358</td>\n",
       "      <td>Bike</td>\n",
       "      <td>4</td>\n",
       "      <td>0</td>\n",
       "      <td>11</td>\n",
       "      <td>3</td>\n",
       "      <td>08:39:18</td>\n",
       "      <td>11</td>\n",
       "      <td>3</td>\n",
       "      <td>...</td>\n",
       "      <td>(36.8747943, -1.3256903999999998)</td>\n",
       "      <td>(36.8617394, -1.3256159)</td>\n",
       "      <td>99</td>\n",
       "      <td>99</td>\n",
       "      <td>NaN</td>\n",
       "      <td>NaN</td>\n",
       "      <td>NaN</td>\n",
       "      <td>NaN</td>\n",
       "      <td>NaN</td>\n",
       "      <td>NaN</td>\n",
       "    </tr>\n",
       "    <tr>\n",
       "      <th>19679</th>\n",
       "      <td>Order_No_24548</td>\n",
       "      <td>User_Id_2527</td>\n",
       "      <td>Bike</td>\n",
       "      <td>2</td>\n",
       "      <td>1</td>\n",
       "      <td>26</td>\n",
       "      <td>2</td>\n",
       "      <td>11:47:49</td>\n",
       "      <td>26</td>\n",
       "      <td>2</td>\n",
       "      <td>...</td>\n",
       "      <td>(36.7893387, -1.2603714)</td>\n",
       "      <td>(36.8000252, -1.2672588)</td>\n",
       "      <td>40</td>\n",
       "      <td>40</td>\n",
       "      <td>NaN</td>\n",
       "      <td>NaN</td>\n",
       "      <td>NaN</td>\n",
       "      <td>NaN</td>\n",
       "      <td>NaN</td>\n",
       "      <td>NaN</td>\n",
       "    </tr>\n",
       "  </tbody>\n",
       "</table>\n",
       "<p>928 rows × 46 columns</p>\n",
       "</div>"
      ],
      "text/plain": [
       "             Order No       User Id Vehicle Type  Platform Type  \\\n",
       "44        Order_No_53  User_Id_1926         Bike              3   \n",
       "66      Order_No_1899   User_Id_265         Bike              3   \n",
       "137    Order_No_12429   User_Id_136         Bike              3   \n",
       "182    Order_No_26059  User_Id_3517         Bike              3   \n",
       "204    Order_No_16321  User_Id_1642         Bike              3   \n",
       "...               ...           ...          ...            ...   \n",
       "19637  Order_No_20326   User_Id_552         Bike              3   \n",
       "19659   Order_No_3409  User_Id_3283         Bike              3   \n",
       "19660  Order_No_21249   User_Id_640         Bike              3   \n",
       "19667   Order_No_7005  User_Id_2358         Bike              4   \n",
       "19679  Order_No_24548  User_Id_2527         Bike              2   \n",
       "\n",
       "       Personal or Business  Placement - Day of Month  \\\n",
       "44                        0                         6   \n",
       "66                        0                        30   \n",
       "137                       0                        11   \n",
       "182                       0                        30   \n",
       "204                       0                        27   \n",
       "...                     ...                       ...   \n",
       "19637                     0                        18   \n",
       "19659                     0                         7   \n",
       "19660                     0                        22   \n",
       "19667                     0                        11   \n",
       "19679                     1                        26   \n",
       "\n",
       "       Placement - Weekday (Mo = 1) Placement - Time  \\\n",
       "44                                4         10:10:37   \n",
       "66                                2         12:39:25   \n",
       "137                               2         13:51:40   \n",
       "182                               2         12:59:15   \n",
       "204                               3         13:59:08   \n",
       "...                             ...              ...   \n",
       "19637                             4         12:05:26   \n",
       "19659                             2         14:39:57   \n",
       "19660                             4         10:59:18   \n",
       "19667                             3         08:39:18   \n",
       "19679                             2         11:47:49   \n",
       "\n",
       "       Confirmation - Day of Month  Confirmation - Weekday (Mo = 1)  ...  \\\n",
       "44                               6                                4  ...   \n",
       "66                              30                                2  ...   \n",
       "137                             11                                2  ...   \n",
       "182                             30                                2  ...   \n",
       "204                             27                                3  ...   \n",
       "...                            ...                              ...  ...   \n",
       "19637                           18                                4  ...   \n",
       "19659                            7                                2  ...   \n",
       "19660                           22                                4  ...   \n",
       "19667                           11                                3  ...   \n",
       "19679                           26                                2  ...   \n",
       "\n",
       "                         pickup_long_lat              destination_long_lat  \\\n",
       "44                (36.8925345, -1.34364)          (36.9076533, -1.3065588)   \n",
       "66      (36.843419399999995, -1.3082842)            (36.828195, -1.300921)   \n",
       "137             (36.7445491, -1.3360945)  (36.721658399999995, -1.3254522)   \n",
       "182     (36.808679600000005, -1.2546732)  (36.799343900000004, -1.2599563)   \n",
       "204    (36.7960153, -1.2726506000000002)          (36.7796691, -1.2789469)   \n",
       "...                                  ...                               ...   \n",
       "19637    (36.930829700000004, -1.335477)  (36.904295399999995, -1.3562374)   \n",
       "19659    (36.799248999999996, -1.266837)           (36.781805, -1.2628473)   \n",
       "19660            (36.7848695, -1.304033)  (36.790159100000004, -1.3004846)   \n",
       "19667  (36.8747943, -1.3256903999999998)          (36.8617394, -1.3256159)   \n",
       "19679           (36.7893387, -1.2603714)          (36.8000252, -1.2672588)   \n",
       "\n",
       "       Pickup_Id Destination_Id  sourceid  dstid hod  week_end_or_not  \\\n",
       "44            76             76       NaN    NaN NaN              NaN   \n",
       "66            81             81       NaN    NaN NaN              NaN   \n",
       "137           91             91       NaN    NaN NaN              NaN   \n",
       "182           28             28       NaN    NaN NaN              NaN   \n",
       "204           48             48       NaN    NaN NaN              NaN   \n",
       "...          ...            ...       ...    ...  ..              ...   \n",
       "19637         76             76       NaN    NaN NaN              NaN   \n",
       "19659         40             40       NaN    NaN NaN              NaN   \n",
       "19660         90             90       NaN    NaN NaN              NaN   \n",
       "19667         99             99       NaN    NaN NaN              NaN   \n",
       "19679         40             40       NaN    NaN NaN              NaN   \n",
       "\n",
       "       std_travel_time mean_travel_time  \n",
       "44                 NaN              NaN  \n",
       "66                 NaN              NaN  \n",
       "137                NaN              NaN  \n",
       "182                NaN              NaN  \n",
       "204                NaN              NaN  \n",
       "...                ...              ...  \n",
       "19637              NaN              NaN  \n",
       "19659              NaN              NaN  \n",
       "19660              NaN              NaN  \n",
       "19667              NaN              NaN  \n",
       "19679              NaN              NaN  \n",
       "\n",
       "[928 rows x 46 columns]"
      ]
     },
     "execution_count": 395,
     "metadata": {},
     "output_type": "execute_result"
    }
   ],
   "source": [
    "df_train_with_uber[df_train_with_uber[\"sourceid\"].isna() == True ]"
   ]
  },
  {
   "cell_type": "markdown",
   "metadata": {},
   "source": [
    "### Minimum Travel Time"
   ]
  },
  {
   "cell_type": "code",
   "execution_count": 342,
   "metadata": {},
   "outputs": [],
   "source": [
    "#df Minimum travel time per sourceid\n",
    "closest_area = df_speed.groupby([\"sourceid\",\"hod\", \"week_end_or_not\"]).agg({\"mean_travel_time\": ['min']})\n",
    "closest_area.columns = ['min_travel_time']\n",
    "closest_area = closest_area.reset_index()\n",
    "\n"
   ]
  },
  {
   "cell_type": "code",
   "execution_count": 399,
   "metadata": {},
   "outputs": [],
   "source": [
    "closest_area_for_std = df_speed.groupby([\"sourceid\",\"hod\", \"week_end_or_not\"]).agg({\"standard_deviation_travel_time\": ['min']})\n",
    "closest_area_for_std.columns = ['min_std_travel_time']\n",
    "closest_area_for_std = closest_area_for_std.reset_index()\n"
   ]
  },
  {
   "cell_type": "code",
   "execution_count": 404,
   "metadata": {},
   "outputs": [],
   "source": [
    "## TRAIN\n",
    "#Merging Train with Minimum Travel Time by UBER for same sourceid et dstid\n",
    "df_train_with_speeds = pd.merge(df_train_with_uber, closest_area,  \n",
    "                  how='left', \n",
    "                  left_on=['Pickup_Hour','Week_end', \"Pickup_Id\" ], \n",
    "                  right_on = ['hod', \"week_end_or_not\", \"sourceid\"]\n",
    "                 )\n",
    "\n",
    "df_train_with_speeds = pd.merge(df_train_with_speeds, closest_area_for_std,  \n",
    "                  how='left', \n",
    "                  left_on=['Pickup_Hour','Week_end', \"Pickup_Id\" ], \n",
    "                  right_on = ['hod', \"week_end_or_not\", \"sourceid\"]\n",
    "                 )\n",
    "\n",
    "\n",
    "#Replacing NA mean travel time by Min speed\n",
    "df_train_with_speeds[\"mean_travel_time\"].fillna(df_train_with_speeds['min_travel_time'], inplace = True )\n",
    "df_train_with_speeds[\"std_travel_time\"].fillna(df_train_with_speeds['min_std_travel_time'], inplace = True )\n",
    "\n",
    "\n"
   ]
  },
  {
   "cell_type": "code",
   "execution_count": 410,
   "metadata": {},
   "outputs": [],
   "source": [
    "## TEST\n",
    "#Merging TESt with Minimum Travel Time by UBER for same sourceid et dstid\n",
    "df_test_with_speeds = pd.merge(df_test_with_uber, closest_area,  \n",
    "                  how='left', \n",
    "                  left_on=['Pickup_Hour','Week_end', \"Pickup_Id\" ], \n",
    "                  right_on = ['hod', \"week_end_or_not\", \"sourceid\"])\n",
    "\n",
    "df_test_with_speeds = pd.merge(df_test_with_speeds, closest_area_for_std,  \n",
    "                  how='left', \n",
    "                  left_on=['Pickup_Hour','Week_end', \"Pickup_Id\" ], \n",
    "                  right_on = ['hod', \"week_end_or_not\", \"sourceid\"]\n",
    "                 )\n",
    "\n",
    "\n",
    "#Replacing NA mean travel time by Min speed\n",
    "df_test_with_speeds[\"mean_travel_time\"].fillna(df_test_with_speeds['min_travel_time'], inplace = True )\n",
    "df_test_with_speeds[\"std_travel_time\"].fillna(df_test_with_speeds['min_std_travel_time'], inplace = True )\n"
   ]
  },
  {
   "cell_type": "markdown",
   "metadata": {},
   "source": [
    "Some PickUpId & Destination Id are equal - so no mean_Travel_time value - so we took closest one"
   ]
  },
  {
   "cell_type": "code",
   "execution_count": 411,
   "metadata": {},
   "outputs": [],
   "source": [
    "#Reassigning\n",
    "df_train_uber_clean = df_train_with_speeds  \n",
    "df_test_uber_clean = df_test_with_speeds"
   ]
  },
  {
   "cell_type": "markdown",
   "metadata": {},
   "source": [
    "## Adding Cluster for PickUp and Drop Off "
   ]
  },
  {
   "cell_type": "markdown",
   "metadata": {},
   "source": [
    "### Finding optimal nulmber of clusters"
   ]
  },
  {
   "cell_type": "code",
   "execution_count": 412,
   "metadata": {},
   "outputs": [],
   "source": [
    "cost_pickup = []\n",
    "for i in range(60):\n",
    "    kmeans = MiniBatchKMeans(n_clusters=i+1,batch_size=1000, random_state= 52)\n",
    "    kmeans.fit(df_train_uber_clean[['Pickup Lat', 'Pickup Long']])\n",
    "    cost_pickup.append(kmeans.inertia_)"
   ]
  },
  {
   "cell_type": "code",
   "execution_count": 413,
   "metadata": {},
   "outputs": [],
   "source": [
    "cost_dropoff = []\n",
    "for i in range(60):\n",
    "    kmeans = MiniBatchKMeans(n_clusters=i+1,batch_size=1000, random_state= 52)\n",
    "    kmeans.fit(df_train_uber_clean[['Destination Lat', 'Destination Long']])\n",
    "    cost_dropoff.append(kmeans.inertia_)"
   ]
  },
  {
   "cell_type": "code",
   "execution_count": 414,
   "metadata": {},
   "outputs": [
    {
     "data": {
      "image/png": "[encoded data removed]",
      "text/plain": [
       "<Figure size 432x288 with 1 Axes>"
      ]
     },
     "metadata": {
      "needs_background": "light"
     },
     "output_type": "display_data"
    }
   ],
   "source": [
    "plt.plot(np.arange(1, 61, 1), cost_dropoff)\n",
    "plt.plot(np.arange(1, 61, 1), cost_pickup, color = \"red\")\n",
    "plt.plot([14,14] , [0,20])\n",
    "plt.show()"
   ]
  },
  {
   "cell_type": "code",
   "execution_count": 415,
   "metadata": {
    "scrolled": true
   },
   "outputs": [],
   "source": [
    "pick_up_mn_kmeans = MiniBatchKMeans(n_clusters= 14 ,batch_size=1000, random_state= 52)\n",
    "pickup_clusters = pick_up_mn_kmeans.fit(df_train_uber_clean[['Pickup Lat', 'Pickup Long']])\n",
    "drop_mn_kmeans = MiniBatchKMeans(n_clusters= 14 ,batch_size=1000, random_state= 52)\n",
    "drop_clusters = drop_mn_kmeans.fit(df_train_uber_clean[['Destination Lat', 'Destination Long']])\n",
    "\n",
    "\n"
   ]
  },
  {
   "cell_type": "markdown",
   "metadata": {},
   "source": [
    "### Clustering Train "
   ]
  },
  {
   "cell_type": "code",
   "execution_count": 416,
   "metadata": {},
   "outputs": [],
   "source": [
    "drop_clusters = (drop_clusters.labels_).reshape(-1,1).astype(object)\n",
    "pickup_clusters = (pickup_clusters.labels_).reshape(-1,1).astype(object)\n",
    "\n",
    "destination_clusters = pd.DataFrame(drop_clusters, columns = [\"destination_clusters\"])\n",
    "pickup_clusters = pd.DataFrame(pickup_clusters, columns = [\"pickup_clusters\"])\n",
    "\n",
    "\n",
    "df_train_with_labels = pd.concat([df_train_uber_clean,destination_clusters, pickup_clusters], axis = 1)"
   ]
  },
  {
   "cell_type": "markdown",
   "metadata": {},
   "source": [
    "### Clustering Test"
   ]
  },
  {
   "cell_type": "code",
   "execution_count": 417,
   "metadata": {},
   "outputs": [],
   "source": [
    "#Predicting clusters labels \n",
    "test_pickup_labels =pd.DataFrame(pick_up_mn_kmeans.predict(df_test_uber_clean[['Pickup Lat', 'Pickup Long']]).reshape(-1,1).astype(str) ,  columns = [\"pickup_clusters\"])\n",
    "test_drop_labels = pd.DataFrame(drop_mn_kmeans .predict(df_test_uber_clean[['Destination Lat', 'Destination Long']]).reshape(-1,1).astype(str), columns = [\"destination_clusters\"])\n",
    "\n",
    "#Merging \n",
    "df_test_with_labels = pd.concat([df_test_uber_clean,test_drop_labels, test_pickup_labels], axis = 1)\n"
   ]
  },
  {
   "cell_type": "markdown",
   "metadata": {},
   "source": [
    "### PCA"
   ]
  },
  {
   "cell_type": "code",
   "execution_count": 418,
   "metadata": {},
   "outputs": [],
   "source": [
    "coords = np.vstack((df_train_with_labels[['Pickup Lat', 'Pickup Long']].values,\n",
    "                    df_train_with_labels[['Destination Lat', 'Destination Long']].values))"
   ]
  },
  {
   "cell_type": "code",
   "execution_count": 419,
   "metadata": {},
   "outputs": [],
   "source": [
    "pca = PCA(random_state=42).fit(coords)"
   ]
  },
  {
   "cell_type": "code",
   "execution_count": 420,
   "metadata": {},
   "outputs": [],
   "source": [
    "pca = PCA(random_state=50).fit(coords)\n",
    "\n",
    "df_train_with_labels['pickup_pca0'] = pca.transform(df_train_with_labels[['Pickup Lat', 'Pickup Long']])[:, 0]\n",
    "df_train_with_labels['pickup_pca1'] = pca.transform(df_train_with_labels[['Pickup Lat', 'Pickup Long']])[:, 1]\n",
    "df_train_with_labels['dropoff_pca0'] = pca.transform(df_train_with_labels[['Destination Lat', 'Destination Long']])[:, 0]\n",
    "df_train_with_labels['dropoff_pca1'] = pca.transform(df_train_with_labels[['Destination Lat', 'Destination Long']])[:, 1]\n",
    "df_test_with_labels['pickup_pca0'] = pca.transform(df_test_with_labels[['Pickup Lat', 'Pickup Long']])[:, 0]\n",
    "df_test_with_labels['pickup_pca1'] = pca.transform(df_test_with_labels[['Pickup Lat', 'Pickup Long']])[:, 1]\n",
    "df_test_with_labels['dropoff_pca0'] = pca.transform(df_test_with_labels[['Destination Lat', 'Destination Long']])[:, 0]\n",
    "df_test_with_labels['dropoff_pca1'] = pca.transform(df_test_with_labels[['Destination Lat', 'Destination Long']])[:, 1]"
   ]
  },
  {
   "cell_type": "markdown",
   "metadata": {},
   "source": [
    "\n",
    "## Rush Hours"
   ]
  },
  {
   "cell_type": "code",
   "execution_count": 421,
   "metadata": {},
   "outputs": [],
   "source": [
    "#Train\n",
    "df_train_with_labels['Rush_Hour'] = df_train_with_labels [\"Pickup_Hour\"].apply(lambda x : \"Yes\" if (x>6 and x<9) or (x>16 and x<19) else \"No\")\n",
    "\n",
    "#Test\n",
    "df_test_with_labels['Rush_Hour'] = df_test_with_labels[\"Pickup_Hour\"].apply(lambda x : \"Yes\" if (x>6 and x<9) or (x>16 and x<19) else \"No\")\n"
   ]
  },
  {
   "cell_type": "markdown",
   "metadata": {},
   "source": [
    "## Riders and Ratings "
   ]
  },
  {
   "cell_type": "code",
   "execution_count": 422,
   "metadata": {},
   "outputs": [],
   "source": [
    "df_train_with_labels['Average_Rider_Speed'] = df_train_with_labels['Rider Id'].map(df_train_with_labels.groupby('Rider Id')[\"Speed_in_km/h\"].mean())\n"
   ]
  },
  {
   "cell_type": "code",
   "execution_count": 423,
   "metadata": {},
   "outputs": [],
   "source": [
    "df_test_with_labels[\"Average_Rider_Speed\"] = df_test_with_labels[\"Rider Id\"].map(df_train_with_labels.groupby('Rider Id')[\"Speed_in_km/h\"].mean())\n",
    "\n"
   ]
  },
  {
   "cell_type": "markdown",
   "metadata": {},
   "source": [
    "# Dummies and scaling "
   ]
  },
  {
   "cell_type": "markdown",
   "metadata": {},
   "source": [
    "## Dummies\n",
    "\n"
   ]
  },
  {
   "cell_type": "code",
   "execution_count": 555,
   "metadata": {},
   "outputs": [],
   "source": [
    "df_train_dummies = df_train_with_labels \n",
    "df_test_dummies =  df_test_with_labels"
   ]
  },
  {
   "cell_type": "markdown",
   "metadata": {},
   "source": [
    "### Dummies on Train"
   ]
  },
  {
   "cell_type": "code",
   "execution_count": 556,
   "metadata": {},
   "outputs": [],
   "source": [
    "train_platform_dummies = pd.get_dummies(df_train_dummies['Platform Type'],prefix='Platform Type', drop_first='True')\n",
    "train_personnal_business_dummies = pd.get_dummies(df_train_dummies['Personal or Business'],prefix='Personal or Business', drop_first='True')\n",
    "train_monthday_dummies = pd.get_dummies(df_train_dummies['Placement - Day of Month'],prefix='Placement - Day of Month', drop_first='True')\n",
    "train_pickup_hour_dummies = pd.get_dummies(df_train_dummies['Pickup_Hour'],prefix='Pickup_Hour', drop_first='True')\n",
    "train_pickup_id_dummies = pd.get_dummies(df_train_dummies['Pickup_Id'],prefix='Pickup_Id', drop_first='True')\n",
    "train_destination_id_dummies = pd.get_dummies(df_train_dummies['Destination_Id'],prefix='Destination_Id', drop_first='True')\n",
    "train_week_end_dummies = pd.get_dummies(df_train_dummies[\"Week_end\"],prefix='Week_end', drop_first='True')\n",
    "train_destination_dummies = pd.get_dummies(df_train_dummies[\"destination_clusters\"],prefix='destination_clusters', drop_first='True')\n",
    "train_pick_up_dummies = pd.get_dummies(df_train_dummies[\"pickup_clusters\"],prefix='pickup_clusters', drop_first='True')\n",
    "train_rush_hours_dummies = pd.get_dummies(df_train_dummies[\"Rush_Hour\"],prefix='Rush_Hour', drop_first='True')\n",
    "train_week_day_dummies = pd.get_dummies(df_train_dummies[\"Placement - Weekday (Mo = 1)\"],prefix='Placement - Weekday (Mo = 1)', drop_first='True')\n",
    "\n",
    "\n",
    "\n",
    "\n",
    "df_train_dummies = pd.concat([df_train_dummies, \n",
    "                        train_platform_dummies, train_personnal_business_dummies, \n",
    "                        train_monthday_dummies,train_pickup_hour_dummies, train_pickup_id_dummies,\n",
    "                        train_destination_id_dummies, train_week_end_dummies,\n",
    "                        train_destination_dummies,train_pick_up_dummies, train_rush_hours_dummies,\n",
    "                        train_week_day_dummies       \n",
    "                        ], axis=1)\n",
    "\n",
    "\n",
    "\n",
    "\n"
   ]
  },
  {
   "cell_type": "code",
   "execution_count": 557,
   "metadata": {
    "scrolled": true
   },
   "outputs": [
    {
     "name": "stdout",
     "output_type": "stream",
     "text": [
      "<class 'pandas.core.frame.DataFrame'>\n",
      "Int64Index: 19693 entries, 0 to 19692\n",
      "Columns: 337 entries, Order No to Placement - Weekday (Mo = 1)_7\n",
      "dtypes: float64(21), int64(27), object(14), uint8(275)\n",
      "memory usage: 14.6+ MB\n"
     ]
    }
   ],
   "source": [
    "df_train_dummies.info()"
   ]
  },
  {
   "cell_type": "markdown",
   "metadata": {},
   "source": [
    "### Dummies on Test"
   ]
  },
  {
   "cell_type": "code",
   "execution_count": 558,
   "metadata": {},
   "outputs": [],
   "source": [
    "test_platform_dummies = pd.get_dummies(df_test_dummies['Platform Type'],prefix='Platform Type', drop_first='True')\n",
    "test_personnal_business_dummies = pd.get_dummies(df_test_dummies['Personal or Business'],prefix='Personal or Business', drop_first='True')\n",
    "test_monthday_dummies = pd.get_dummies(df_test_dummies['Placement - Day of Month'],prefix='Placement - Day of Month', drop_first='True')\n",
    "test_pickup_hour_dummies = pd.get_dummies(df_test_dummies['Pickup_Hour'],prefix='Pickup_Hour', drop_first='True')\n",
    "test_pickup_id_dummies = pd.get_dummies(df_test_dummies['Pickup_Id'],prefix='Pickup_Id', drop_first='True')\n",
    "test_destination_id_dummies = pd.get_dummies(df_test_dummies['Destination_Id'],prefix='Destination_Id', drop_first='True')\n",
    "test_week_end_dummies = pd.get_dummies(df_test_dummies[\"Week_end\"],prefix='Week_end', drop_first='True')\n",
    "test_destination_dummies = pd.get_dummies(df_test_dummies[\"destination_clusters\"],prefix='destination_clusters', drop_first='True')\n",
    "test_pick_up_dummies = pd.get_dummies(df_test_dummies[\"pickup_clusters\"],prefix='pickup_clusters', drop_first='True')\n",
    "test_rush_hours_dummies = pd.get_dummies(df_test_dummies[\"Rush_Hour\"],prefix='Rush_Hour', drop_first='True')\n",
    "test_week_day_dummies = pd.get_dummies(df_test_dummies[\"Placement - Weekday (Mo = 1)\"],prefix='Placement - Weekday (Mo = 1)', drop_first='True')\n",
    "\n",
    "\n",
    "df_test_dummies = pd.concat([df_test_with_labels, \n",
    "                        test_platform_dummies, test_personnal_business_dummies, \n",
    "                        test_monthday_dummies,test_pickup_hour_dummies, test_pickup_id_dummies,\n",
    "                        test_destination_id_dummies, test_week_end_dummies,test_destination_dummies,test_pick_up_dummies,\n",
    "                        test_rush_hours_dummies, test_week_day_dummies\n",
    "                        ], axis=1)\n",
    "\n"
   ]
  },
  {
   "cell_type": "code",
   "execution_count": 559,
   "metadata": {},
   "outputs": [
    {
     "name": "stdout",
     "output_type": "stream",
     "text": [
      "<class 'pandas.core.frame.DataFrame'>\n",
      "Int64Index: 7068 entries, 0 to 7067\n",
      "Columns: 318 entries, Order No to Placement - Weekday (Mo = 1)_7\n",
      "dtypes: float64(20), int64(24), object(13), uint8(261)\n",
      "memory usage: 5.2+ MB\n"
     ]
    }
   ],
   "source": [
    "df_test_dummies.info()"
   ]
  },
  {
   "cell_type": "code",
   "execution_count": 560,
   "metadata": {},
   "outputs": [
    {
     "name": "stdout",
     "output_type": "stream",
     "text": [
      "Pickup_Id_33\n",
      "Pickup_Id_51\n",
      "Pickup_Id_56\n",
      "Pickup_Id_59\n",
      "Pickup_Id_78\n",
      "Destination_Id_16\n",
      "Destination_Id_20\n",
      "Destination_Id_72\n",
      "-----\n",
      "Arrival at Destination - Day of Month\n",
      "Arrival at Destination - Weekday (Mo = 1)\n",
      "Arrival at Destination - Time\n",
      "Time from Pickup to Arrival\n",
      "Speed_in_km/h\n",
      "Pickup_Hour_22\n",
      "Pickup_Id_3\n",
      "Pickup_Id_4\n",
      "Pickup_Id_31\n",
      "Pickup_Id_32\n",
      "Pickup_Id_36\n",
      "Pickup_Id_63\n",
      "Pickup_Id_67\n",
      "Pickup_Id_71\n",
      "Pickup_Id_72\n",
      "Pickup_Id_79\n",
      "Pickup_Id_105\n",
      "Destination_Id_21\n",
      "Destination_Id_31\n",
      "Destination_Id_35\n",
      "Destination_Id_37\n",
      "Destination_Id_56\n",
      "Destination_Id_66\n",
      "Destination_Id_67\n",
      "Destination_Id_69\n",
      "Destination_Id_71\n",
      "Destination_Id_74\n"
     ]
    }
   ],
   "source": [
    "for i in df_test_dummies : \n",
    "    if i not in df_train_dummies : \n",
    "        print(i)\n",
    "print('-----')\n",
    "\n",
    "\n",
    "for i in  df_train_dummies : \n",
    "    if i not in df_test_dummies : \n",
    "        print(i)"
   ]
  },
  {
   "cell_type": "markdown",
   "metadata": {},
   "source": [
    "## Scaling"
   ]
  },
  {
   "cell_type": "code",
   "execution_count": 561,
   "metadata": {},
   "outputs": [],
   "source": [
    "scaler = StandardScaler()\n",
    "\n",
    "columns_to_scale =[\n",
    "   \"Distance (KM)\",\"Temperature\",\"Pickup Lat\",\"Pickup Long\",\"Destination Lat\",\"Destination Long\" ,\n",
    "    \"No_Of_Orders\",\"Age\",\"Average_Rating\",\"mean_travel_time\", \"Average_Rider_Speed\"] "
   ]
  },
  {
   "cell_type": "code",
   "execution_count": 562,
   "metadata": {},
   "outputs": [],
   "source": [
    "#Train \n",
    "scaler_train = scaler.fit(df_train_dummies[columns_to_scale])\n",
    "df_train_dummies[columns_to_scale] = scaler_train.transform(df_train_dummies[columns_to_scale])"
   ]
  },
  {
   "cell_type": "code",
   "execution_count": 563,
   "metadata": {},
   "outputs": [
    {
     "name": "stdout",
     "output_type": "stream",
     "text": [
      "<class 'pandas.core.frame.DataFrame'>\n",
      "Int64Index: 19693 entries, 0 to 19692\n",
      "Columns: 337 entries, Order No to Placement - Weekday (Mo = 1)_7\n",
      "dtypes: float64(24), int64(24), object(14), uint8(275)\n",
      "memory usage: 14.6+ MB\n"
     ]
    }
   ],
   "source": [
    "df_train_dummies.info()"
   ]
  },
  {
   "cell_type": "code",
   "execution_count": 564,
   "metadata": {},
   "outputs": [
    {
     "name": "stdout",
     "output_type": "stream",
     "text": [
      "<class 'pandas.core.frame.DataFrame'>\n",
      "Int64Index: 7068 entries, 0 to 7067\n",
      "Columns: 318 entries, Order No to Placement - Weekday (Mo = 1)_7\n",
      "dtypes: float64(23), int64(21), object(13), uint8(261)\n",
      "memory usage: 5.2+ MB\n"
     ]
    }
   ],
   "source": [
    "#Test\n",
    "df_test_dummies[columns_to_scale] = scaler_train.transform(df_test_dummies[columns_to_scale])\n",
    "df_test_dummies.info()"
   ]
  },
  {
   "cell_type": "code",
   "execution_count": 565,
   "metadata": {},
   "outputs": [],
   "source": [
    "df_test_to_drop = df_test_dummies \n",
    "df_train_to_drop = df_train_dummies "
   ]
  },
  {
   "cell_type": "code",
   "execution_count": 566,
   "metadata": {},
   "outputs": [
    {
     "name": "stdout",
     "output_type": "stream",
     "text": [
      "Pickup_Id_33\n",
      "Pickup_Id_51\n",
      "Pickup_Id_56\n",
      "Pickup_Id_59\n",
      "Pickup_Id_78\n",
      "Destination_Id_16\n",
      "Destination_Id_20\n",
      "Destination_Id_72\n",
      "-----\n",
      "Arrival at Destination - Day of Month\n",
      "Arrival at Destination - Weekday (Mo = 1)\n",
      "Arrival at Destination - Time\n",
      "Time from Pickup to Arrival\n",
      "Speed_in_km/h\n",
      "Pickup_Hour_22\n",
      "Pickup_Id_3\n",
      "Pickup_Id_4\n",
      "Pickup_Id_31\n",
      "Pickup_Id_32\n",
      "Pickup_Id_36\n",
      "Pickup_Id_63\n",
      "Pickup_Id_67\n",
      "Pickup_Id_71\n",
      "Pickup_Id_72\n",
      "Pickup_Id_79\n",
      "Pickup_Id_105\n",
      "Destination_Id_21\n",
      "Destination_Id_31\n",
      "Destination_Id_35\n",
      "Destination_Id_37\n",
      "Destination_Id_56\n",
      "Destination_Id_66\n",
      "Destination_Id_67\n",
      "Destination_Id_69\n",
      "Destination_Id_71\n",
      "Destination_Id_74\n"
     ]
    }
   ],
   "source": [
    "for i in df_test_to_drop : \n",
    "    if i not in df_train_to_drop : \n",
    "        print(i)\n",
    "print('-----')\n",
    "\n",
    "\n",
    "for i in  df_train_to_drop : \n",
    "    if i not in df_test_to_drop : \n",
    "        print(i)"
   ]
  },
  {
   "cell_type": "markdown",
   "metadata": {},
   "source": [
    "# Dropping Columns"
   ]
  },
  {
   "cell_type": "markdown",
   "metadata": {},
   "source": [
    "## Train"
   ]
  },
  {
   "cell_type": "code",
   "execution_count": 567,
   "metadata": {},
   "outputs": [],
   "source": [
    "columns_to_drop_in_train = [\n",
    "\"Order No\",\n",
    "'User Id',\n",
    "'Vehicle Type',\n",
    "'Confirmation - Day of Month', \n",
    "'Confirmation - Weekday (Mo = 1)',\n",
    "'Arrival at Pickup - Day of Month',\n",
    "'Arrival at Pickup - Weekday (Mo = 1)',\n",
    "'Pickup - Day of Month',\n",
    "'Pickup - Weekday (Mo = 1)',\n",
    "\"Precipitation in millimeters\",\n",
    "'Arrival at Destination - Day of Month',\n",
    "'Arrival at Destination - Weekday (Mo = 1)',\n",
    "\"Arrival at Destination - Time\",\n",
    "\"Rider Id\", \n",
    "\"Speed_in_km/h\",\n",
    "\"Platform Type\", \n",
    "\"Personal or Business\", \n",
    "\"Placement - Day of Month\", \n",
    "\"Pickup_Hour\" ,\n",
    "\"Week_end\",\n",
    "\"Pickup_Id\" ,\n",
    "\"Destination_Id\",\n",
    "\"destination_clusters\",\n",
    "\"pickup_clusters\", \n",
    "'Rush_Hour',\n",
    "\"sourceid_x\",\n",
    "\"hod_x\",\n",
    "\"week_end_or_not_x\",\n",
    "\"sourceid_y\",\n",
    "\"hod_y\",\n",
    "\"week_end_or_not_y\",\n",
    "\"pickup_long_lat\",\n",
    "'destination_long_lat',\n",
    "'Placement - Time', \n",
    "'Confirmation - Time', \n",
    "'Arrival at Pickup - Time', \n",
    "'Pickup - Time',\n",
    "\"min_travel_time\",\n",
    "\"min_std_travel_time\",\n",
    "\"hod\",\n",
    "\"Placement - Weekday (Mo = 1)\",\n",
    "'Pickup Lat',\n",
    " 'Pickup Long',\n",
    " 'Destination Lat',\n",
    " 'Destination Long']\n",
    "\n"
   ]
  },
  {
   "cell_type": "code",
   "execution_count": 568,
   "metadata": {},
   "outputs": [],
   "source": [
    "df_train_to_drop.drop(columns_to_drop_in_train , axis = 1 , inplace = True )"
   ]
  },
  {
   "cell_type": "code",
   "execution_count": 569,
   "metadata": {},
   "outputs": [],
   "source": [
    "columns_to_drop_in_test = [\n",
    "\"Order No\", \n",
    "'User Id', \n",
    "'Vehicle Type', \n",
    "'Confirmation - Day of Month', \n",
    "'Confirmation - Weekday (Mo = 1)',\n",
    "'Arrival at Pickup - Day of Month',\n",
    "'Arrival at Pickup - Weekday (Mo = 1)',\n",
    "'Pickup - Day of Month',\n",
    "'Pickup - Weekday (Mo = 1)',\n",
    "\"Precipitation in millimeters\",\n",
    "\"Rider Id\", \n",
    "\"Platform Type\",\n",
    "\"Personal or Business\", \n",
    "\"Placement - Day of Month\", \n",
    "\"Pickup_Hour\",\n",
    "\"Week_end\",\n",
    "\"Pickup_Id\",\n",
    "\"Destination_Id\",\n",
    "\"destination_clusters\",\n",
    "\"pickup_clusters\", \n",
    "'Rush_Hour',\n",
    "\"sourceid_x\",\n",
    "\"hod_x\",\n",
    "\"week_end_or_not_x\",\n",
    "\"sourceid_y\",\n",
    "\"hod_y\",\n",
    "\"week_end_or_not_y\",\n",
    "\"pickup_long_lat\",\n",
    "\"destination_long_lat\",\n",
    "'Placement - Time', \n",
    "'Confirmation - Time', \n",
    "'Arrival at Pickup - Time', \n",
    "'Pickup - Time',\n",
    "\"min_travel_time\",\n",
    "\"min_std_travel_time\",\n",
    "\"hod\",\n",
    "\"Placement - Weekday (Mo = 1)\",\n",
    "'Pickup Lat',\n",
    " 'Pickup Long',\n",
    " 'Destination Lat',\n",
    " 'Destination Long']   \n"
   ]
  },
  {
   "cell_type": "code",
   "execution_count": 570,
   "metadata": {},
   "outputs": [],
   "source": [
    "df_test_to_drop.drop(columns_to_drop_in_test , axis = 1 , inplace = True ) "
   ]
  },
  {
   "cell_type": "code",
   "execution_count": 571,
   "metadata": {},
   "outputs": [
    {
     "name": "stdout",
     "output_type": "stream",
     "text": [
      "Pickup_Id_33\n",
      "Pickup_Id_51\n",
      "Pickup_Id_56\n",
      "Pickup_Id_59\n",
      "Pickup_Id_78\n",
      "Destination_Id_16\n",
      "Destination_Id_20\n",
      "Destination_Id_72\n",
      "-----\n",
      "Time from Pickup to Arrival\n",
      "Pickup_Hour_22\n",
      "Pickup_Id_3\n",
      "Pickup_Id_4\n",
      "Pickup_Id_31\n",
      "Pickup_Id_32\n",
      "Pickup_Id_36\n",
      "Pickup_Id_63\n",
      "Pickup_Id_67\n",
      "Pickup_Id_71\n",
      "Pickup_Id_72\n",
      "Pickup_Id_79\n",
      "Pickup_Id_105\n",
      "Destination_Id_21\n",
      "Destination_Id_31\n",
      "Destination_Id_35\n",
      "Destination_Id_37\n",
      "Destination_Id_56\n",
      "Destination_Id_66\n",
      "Destination_Id_67\n",
      "Destination_Id_69\n",
      "Destination_Id_71\n",
      "Destination_Id_74\n"
     ]
    }
   ],
   "source": [
    "to_add_in_train = []\n",
    "to_add_in_test = []\n",
    "\n",
    "for i in df_test_to_drop : \n",
    "    if i not in df_train_to_drop : \n",
    "        print(i)\n",
    "        to_add_in_train.append(i)\n",
    "print('-----')\n",
    "\n",
    "\n",
    "for i in  df_train_to_drop : \n",
    "    if i not in df_test_to_drop : \n",
    "        print(i)\n",
    "        to_add_in_test.append(i)"
   ]
  },
  {
   "cell_type": "code",
   "execution_count": 572,
   "metadata": {},
   "outputs": [
    {
     "name": "stdout",
     "output_type": "stream",
     "text": [
      "23\n",
      "22\n"
     ]
    }
   ],
   "source": [
    "print(len(to_add_in_test))\n",
    "to_add_in_test.remove(\"Time from Pickup to Arrival\")\n",
    "print(len(to_add_in_test))"
   ]
  },
  {
   "cell_type": "markdown",
   "metadata": {},
   "source": [
    "# Adding Columns "
   ]
  },
  {
   "cell_type": "markdown",
   "metadata": {},
   "source": [
    "## Test"
   ]
  },
  {
   "cell_type": "code",
   "execution_count": 573,
   "metadata": {},
   "outputs": [
    {
     "name": "stdout",
     "output_type": "stream",
     "text": [
      "<class 'pandas.core.frame.DataFrame'>\n",
      "Int64Index: 7068 entries, 0 to 7067\n",
      "Columns: 299 entries, Distance (KM) to Destination_Id_74\n",
      "dtypes: float64(13), int64(25), uint8(261)\n",
      "memory usage: 4.2 MB\n"
     ]
    }
   ],
   "source": [
    "for col in to_add_in_test : \n",
    "    df_test_to_drop[col] = 0\n",
    "df_test_to_drop.info()"
   ]
  },
  {
   "cell_type": "code",
   "execution_count": 574,
   "metadata": {},
   "outputs": [
    {
     "name": "stdout",
     "output_type": "stream",
     "text": [
      "<class 'pandas.core.frame.DataFrame'>\n",
      "Int64Index: 19693 entries, 0 to 19692\n",
      "Columns: 300 entries, Distance (KM) to Destination_Id_72\n",
      "dtypes: float64(13), int64(12), uint8(275)\n",
      "memory usage: 9.1 MB\n"
     ]
    }
   ],
   "source": [
    "for col in to_add_in_train : \n",
    "    df_train_to_drop[col] = 0\n",
    "df_train_to_drop.info()"
   ]
  },
  {
   "cell_type": "code",
   "execution_count": 575,
   "metadata": {},
   "outputs": [
    {
     "name": "stdout",
     "output_type": "stream",
     "text": [
      "There are 0 categorical variables\n",
      "\n",
      "Categorical variables are  : \n",
      " []\n"
     ]
    }
   ],
   "source": [
    "categorical = [var for var in df_train_to_drop.columns if df_train_to_drop[var].dtype=='O']\n",
    "print('There are {} categorical variables\\n'.format(len(categorical)))\n",
    "print(\"Categorical variables are  : \\n\", categorical)"
   ]
  },
  {
   "cell_type": "markdown",
   "metadata": {},
   "source": [
    "# Save Data as Pickle"
   ]
  },
  {
   "cell_type": "code",
   "execution_count": 584,
   "metadata": {},
   "outputs": [],
   "source": [
    "pickle.dump(df_train_to_drop, open(\"/Users/patrickmacclenihan/Desktop/final_project/JP notebooks/train_data_ready\", \"wb\"))\n",
    "pickle.dump(df_test_to_drop , open(\"test_data_ready\", \"wb\"))"
   ]
  },
  {
   "cell_type": "code",
   "execution_count": null,
   "metadata": {},
   "outputs": [],
   "source": []
  },
  {
   "cell_type": "code",
   "execution_count": 578,
   "metadata": {},
   "outputs": [],
   "source": [
    "columns = list()\n",
    "for i in df_train_to_drop : \n",
    "    columns.append(i)"
   ]
  },
  {
   "cell_type": "code",
   "execution_count": 579,
   "metadata": {},
   "outputs": [],
   "source": [
    "pickle.dump(columns , open(\"/Users/patrickmacclenihan/Desktop/final_project/DATA/columns\", \"wb\"))"
   ]
  },
  {
   "cell_type": "code",
   "execution_count": 583,
   "metadata": {},
   "outputs": [],
   "source": [
    "columns_to_drop_in_train\n",
    "pickle.dump(columns_to_drop_in_train , open(\"/Users/patrickmacclenihan/Desktop/final_project/DATA/columns_to_drop\", \"wb\"))"
   ]
  },
  {
   "cell_type": "code",
   "execution_count": null,
   "metadata": {},
   "outputs": [],
   "source": []
  }
 ],
 "metadata": {
  "kernelspec": {
   "display_name": "Python 3",
   "language": "python",
   "name": "python3"
  },
  "language_info": {
   "codemirror_mode": {
    "name": "ipython",
    "version": 3
   },
   "file_extension": ".py",
   "mimetype": "text/x-python",
   "name": "python",
   "nbconvert_exporter": "python",
   "pygments_lexer": "ipython3",
   "version": "3.7.6"
  },
  "toc": {
   "base_numbering": 1,
   "nav_menu": {},
   "number_sections": true,
   "sideBar": true,
   "skip_h1_title": false,
   "title_cell": "Table of Contents",
   "title_sidebar": "Contents",
   "toc_cell": false,
   "toc_position": {
    "height": "calc(100% - 180px)",
    "left": "10px",
    "top": "150px",
    "width": "165px"
   },
   "toc_section_display": true,
   "toc_window_display": true
  },
  "varInspector": {
   "cols": {
    "lenName": 16,
    "lenType": 16,
    "lenVar": 40
   },
   "kernels_config": {
    "python": {
     "delete_cmd_postfix": "",
     "delete_cmd_prefix": "del ",
     "library": "var_list.py",
     "varRefreshCmd": "print(var_dic_list())"
    },
    "r": {
     "delete_cmd_postfix": ") ",
     "delete_cmd_prefix": "rm(",
     "library": "var_list.r",
     "varRefreshCmd": "cat(var_dic_list()) "
    }
   },
   "types_to_exclude": [
    "module",
    "function",
    "builtin_function_or_method",
    "instance",
    "_Feature"
   ],
   "window_display": false
  }
 },
 "nbformat": 4,
 "nbformat_minor": 4
}
