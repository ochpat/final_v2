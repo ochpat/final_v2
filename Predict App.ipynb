{
 "cells": [
  {
   "cell_type": "markdown",
   "metadata": {},
   "source": [
    "# Import"
   ]
  },
  {
   "cell_type": "code",
   "execution_count": 1,
   "metadata": {},
   "outputs": [],
   "source": [
    "from datetime import datetime \n",
    "import pandas as pd\n",
    "import pickle\n",
    "from geopy.geocoders import Nominatim\n",
    "from shapely.geometry import Point, Polygon\n",
    "from geopy import distance\n",
    "from random import randint\n",
    "import requests"
   ]
  },
  {
   "cell_type": "markdown",
   "metadata": {},
   "source": [
    "# Data "
   ]
  },
  {
   "cell_type": "markdown",
   "metadata": {},
   "source": [
    "## Platform Type "
   ]
  },
  {
   "cell_type": "code",
   "execution_count": 2,
   "metadata": {},
   "outputs": [
    {
     "data": {
      "text/plain": [
       "0"
      ]
     },
     "execution_count": 2,
     "metadata": {},
     "output_type": "execute_result"
    }
   ],
   "source": [
    "platform_type = randint(0,4)\n",
    "platform_type "
   ]
  },
  {
   "cell_type": "markdown",
   "metadata": {},
   "source": [
    "## Time"
   ]
  },
  {
   "cell_type": "code",
   "execution_count": 3,
   "metadata": {},
   "outputs": [],
   "source": [
    "time_of_order = datetime.now(tz=None)"
   ]
  },
  {
   "cell_type": "code",
   "execution_count": 4,
   "metadata": {},
   "outputs": [],
   "source": [
    "day = 15\n",
    "month = 6\n",
    "if len(str(month)) == 1 : \n",
    "    month = f'0{month}'\n",
    "    \n",
    "year = time_of_order.year\n",
    "pick_up_hour = 14\n",
    "pick_up_min = 30\n",
    "date = f\"{day}/{month}/{year}\"\n",
    "\n",
    "Personnal_or_Business = \"Personnal\"\n",
    "if Personnal_or_Business == \"Personnal\" : \n",
    "    Personnal_or_Business = 1\n",
    "else : \n",
    "    Personnal_or_Business = 0\n",
    "\n"
   ]
  },
  {
   "cell_type": "code",
   "execution_count": 5,
   "metadata": {},
   "outputs": [],
   "source": [
    "date = f\"{day}/{month}/{year}\"\n",
    "date_time_obj = datetime.strptime(date, '%d/%m/%Y')"
   ]
  },
  {
   "cell_type": "code",
   "execution_count": 70,
   "metadata": {},
   "outputs": [],
   "source": [
    "day_of_week = date_time_obj.weekday()\n"
   ]
  },
  {
   "cell_type": "code",
   "execution_count": 7,
   "metadata": {},
   "outputs": [],
   "source": [
    "def is_week_end(day_of_week):\n",
    "    if day_of_week > 5 : \n",
    "        week_end = 1\n",
    "    else:  \n",
    "        week_end = 0\n",
    "    \n",
    "    return week_end"
   ]
  },
  {
   "cell_type": "code",
   "execution_count": 8,
   "metadata": {},
   "outputs": [
    {
     "data": {
      "text/plain": [
       "0"
      ]
     },
     "execution_count": 8,
     "metadata": {},
     "output_type": "execute_result"
    }
   ],
   "source": [
    "week_end = is_week_end(day_of_week)\n",
    "week_end"
   ]
  },
  {
   "cell_type": "code",
   "execution_count": 9,
   "metadata": {},
   "outputs": [],
   "source": [
    "if (pick_up_hour >6 and pick_up_hour <9) or (pick_up_hour >16 and pick_up_hour <19) : \n",
    "    rush_hour = 1\n",
    "else : \n",
    "    rush_hour = 0\n",
    "    "
   ]
  },
  {
   "cell_type": "markdown",
   "metadata": {},
   "source": [
    "## Location "
   ]
  },
  {
   "cell_type": "code",
   "execution_count": 10,
   "metadata": {},
   "outputs": [],
   "source": [
    "pickup_location = \" Kilimani, Nairobi, Kenya\"\n",
    "destination_location = \"8 Quarry Rd, Nairobi, Kenya\"\n",
    "\n",
    "geolocator = Nominatim(user_agent=\"patrick_app\")\n",
    "pikcup_coord = geolocator.geocode(str(pickup_location))\n",
    "destination_coord = geolocator.geocode(str(destination_location))\n",
    "\n",
    "pickup_lat = pikcup_coord.latitude\n",
    "pickup_long = pikcup_coord.longitude\n",
    "\n",
    "\n",
    "destination_lat = destination_coord.latitude\n",
    "destination_long = destination_coord.longitude\n"
   ]
  },
  {
   "cell_type": "code",
   "execution_count": 11,
   "metadata": {},
   "outputs": [],
   "source": [
    "pickup_lat = pikcup_coord.latitude\n",
    "pickup_long = pikcup_coord.longitude"
   ]
  },
  {
   "cell_type": "markdown",
   "metadata": {},
   "source": [
    "### Distance "
   ]
  },
  {
   "cell_type": "code",
   "execution_count": 12,
   "metadata": {},
   "outputs": [],
   "source": [
    "start = (pickup_lat, pickup_long)\n",
    "end  = (destination_lat, destination_long)"
   ]
  },
  {
   "cell_type": "code",
   "execution_count": 13,
   "metadata": {},
   "outputs": [
    {
     "data": {
      "text/plain": [
       "(-1.2821967, 36.8361819)"
      ]
     },
     "execution_count": 13,
     "metadata": {},
     "output_type": "execute_result"
    }
   ],
   "source": [
    "end"
   ]
  },
  {
   "cell_type": "code",
   "execution_count": 14,
   "metadata": {},
   "outputs": [],
   "source": [
    "distance_in_km = round(distance.distance(start, end).km  ,)"
   ]
  },
  {
   "cell_type": "markdown",
   "metadata": {},
   "source": [
    "### Cluster"
   ]
  },
  {
   "cell_type": "code",
   "execution_count": 15,
   "metadata": {},
   "outputs": [],
   "source": [
    "with open(\"/Users/patrickmacclenihan/Desktop/final_project/JP notebooks/pickup_cluster_model\", 'rb') as file:\n",
    "    pickup_kmean_model = pickle.load(file)\n",
    "\n",
    "with open(\"/Users/patrickmacclenihan/Desktop/final_project/JP notebooks/destination_cluster_model\", 'rb') as file:\n",
    "    destination_kmean_model = pickle.load(file)"
   ]
  },
  {
   "cell_type": "code",
   "execution_count": 16,
   "metadata": {},
   "outputs": [],
   "source": [
    "pickup_cluster = pickup_kmean_model.predict(np.array([pickup_lat,pickup_long]).reshape(1,-1)).astype(str)\n",
    "destination_cluster = destination_kmean_model.predict(np.array([destination_lat,destination_long]).reshape(1,-1)).astype(str)\n",
    "\n"
   ]
  },
  {
   "cell_type": "markdown",
   "metadata": {},
   "source": [
    "### PCA"
   ]
  },
  {
   "cell_type": "code",
   "execution_count": 17,
   "metadata": {},
   "outputs": [],
   "source": [
    "with open(\"/Users/patrickmacclenihan/Desktop/final_project/JP notebooks/pca_model\", 'rb') as file:\n",
    "    pca = pickle.load(file)"
   ]
  },
  {
   "cell_type": "code",
   "execution_count": 18,
   "metadata": {},
   "outputs": [],
   "source": [
    "long_lat = np.array([pickup_lat,pickup_long]).reshape(1,-1)"
   ]
  },
  {
   "cell_type": "code",
   "execution_count": 19,
   "metadata": {},
   "outputs": [],
   "source": [
    "pickup_pca_0 = pca.transform(np.array([pickup_lat,pickup_long]).reshape(1,-1))[:, 0]\n",
    "pickup_pca_1 = pca.transform(np.array([pickup_lat,pickup_long]).reshape(1,-1))[:, 1]\n",
    "destination_pca_0 = pca.transform(np.array([destination_lat,destination_long]).reshape(1,-1))[:, 0]\n",
    "destination_pca_1 = pca.transform(np.array([destination_lat,destination_long]).reshape(1,-1))[:, 1]"
   ]
  },
  {
   "cell_type": "markdown",
   "metadata": {},
   "source": [
    "### With Uber "
   ]
  },
  {
   "cell_type": "code",
   "execution_count": 20,
   "metadata": {},
   "outputs": [],
   "source": [
    "polygons = pickle.load( open( \"/Users/patrickmacclenihan/Desktop/final_project/DATA/DataFrame_for_maps\", \"rb\" ) )"
   ]
  },
  {
   "cell_type": "code",
   "execution_count": 21,
   "metadata": {},
   "outputs": [],
   "source": [
    "area_pickup = 1\n",
    "for  row in polygons[\"geometry\"] : \n",
    "    area_pickup +=1 \n",
    "    if Point(pickup_lat, pickup_long).within(row) : \n",
    "        pickup_id  = area_pickup "
   ]
  },
  {
   "cell_type": "code",
   "execution_count": 22,
   "metadata": {},
   "outputs": [],
   "source": [
    "area_destination = 1 \n",
    "for  row in polygons[\"geometry\"] : \n",
    "    area_destination +=1 \n",
    "    if Point(destination_lat, destination_long).within(row) : \n",
    "        destination_id = area_destination"
   ]
  },
  {
   "cell_type": "code",
   "execution_count": 23,
   "metadata": {},
   "outputs": [
    {
     "data": {
      "text/plain": [
       "(58, 63)"
      ]
     },
     "execution_count": 23,
     "metadata": {},
     "output_type": "execute_result"
    }
   ],
   "source": [
    "pickup_id, destination_id"
   ]
  },
  {
   "cell_type": "code",
   "execution_count": 24,
   "metadata": {},
   "outputs": [],
   "source": [
    "##Speed\n",
    "speed = pickle.load( open( \"/Users/patrickmacclenihan/Desktop/final_project/JP notebooks/uber_speeds_aggregate.pickle\", \"rb\" ) )\n"
   ]
  },
  {
   "cell_type": "code",
   "execution_count": 26,
   "metadata": {},
   "outputs": [],
   "source": [
    "std_travel_time = speed[(speed[\"sourceid\"] == pickup_id) & (speed[\"dstid\"] == destination_id) & (speed[\"hod\"] == pick_up_hour) & (speed[\"week_end_or_not\"] == is_week_end(day_of_week))][\"std_travel_time\"].values\n",
    "mean_travel_time = speed[(speed[\"sourceid\"] == pickup_id) & (speed[\"dstid\"] == destination_id) & (speed[\"hod\"] == pick_up_hour) & (speed[\"week_end_or_not\"] == is_week_end(day_of_week))][\"mean_travel_time\"].values\n"
   ]
  },
  {
   "cell_type": "code",
   "execution_count": 27,
   "metadata": {},
   "outputs": [
    {
     "data": {
      "text/plain": [
       "array([], dtype=float64)"
      ]
     },
     "execution_count": 27,
     "metadata": {},
     "output_type": "execute_result"
    }
   ],
   "source": [
    "mean_travel_time"
   ]
  },
  {
   "cell_type": "code",
   "execution_count": 28,
   "metadata": {},
   "outputs": [
    {
     "data": {
      "text/plain": [
       "array([], dtype=float64)"
      ]
     },
     "execution_count": 28,
     "metadata": {},
     "output_type": "execute_result"
    }
   ],
   "source": [
    "std_travel_time"
   ]
  },
  {
   "cell_type": "code",
   "execution_count": 55,
   "metadata": {},
   "outputs": [
    {
     "data": {
      "text/plain": [
       "63"
      ]
     },
     "execution_count": 55,
     "metadata": {},
     "output_type": "execute_result"
    }
   ],
   "source": [
    "new_dist_id = destination_id  \n",
    "while len(std_travel_time.tolist()) == 0   : \n",
    "    new_dist_id += 1 \n",
    "    std_travel_time = speed[(speed[\"sourceid\"] == pickup_id) & (speed[\"dstid\"] == new_dist_id ) & (speed[\"hod\"] == pick_up_hour) & (speed[\"week_end_or_not\"] == is_week_end(day_of_week))][\"std_travel_time\"].values\n",
    "\n",
    "while len(mean_travel_time.tolist()) == 0   : \n",
    "    new_dist_id += 1 \n",
    "    mean_travel_time = speed[(speed[\"sourceid\"] == pickup_id) & (speed[\"dstid\"] == new_dist_id) & (speed[\"hod\"] == pick_up_hour) & (speed[\"week_end_or_not\"] == is_week_end(day_of_week))][\"mean_travel_time\"].values\n",
    "\n",
    "new_dist_id\n"
   ]
  },
  {
   "cell_type": "code",
   "execution_count": 56,
   "metadata": {},
   "outputs": [
    {
     "data": {
      "text/plain": [
       "63"
      ]
     },
     "execution_count": 56,
     "metadata": {},
     "output_type": "execute_result"
    }
   ],
   "source": [
    "new_dist_id"
   ]
  },
  {
   "cell_type": "code",
   "execution_count": 31,
   "metadata": {},
   "outputs": [
    {
     "data": {
      "text/plain": [
       "array([1295.98])"
      ]
     },
     "execution_count": 31,
     "metadata": {},
     "output_type": "execute_result"
    }
   ],
   "source": [
    "std_travel_time"
   ]
  },
  {
   "cell_type": "markdown",
   "metadata": {},
   "source": [
    "## Riders info "
   ]
  },
  {
   "cell_type": "code",
   "execution_count": 32,
   "metadata": {},
   "outputs": [],
   "source": [
    "df_riders = pickle.load( open( \"/Users/patrickmacclenihan/Desktop/final_project/DATA/riders_info_for_predict\", \"rb\" ) )\n"
   ]
  },
  {
   "cell_type": "code",
   "execution_count": 33,
   "metadata": {},
   "outputs": [],
   "source": [
    "rider = pd.DataFrame(df_riders.iloc[randint(0,df_riders.shape[0]),1::]).T"
   ]
  },
  {
   "cell_type": "code",
   "execution_count": 34,
   "metadata": {},
   "outputs": [],
   "source": [
    "rider = rider.astype(int)"
   ]
  },
  {
   "cell_type": "markdown",
   "metadata": {},
   "source": [
    "## Temperature "
   ]
  },
  {
   "cell_type": "code",
   "execution_count": 35,
   "metadata": {},
   "outputs": [],
   "source": [
    "\n",
    "\n",
    "url = \"https://weatherbit-v1-mashape.p.rapidapi.com/current\"\n",
    "\n",
    "querystring = {\"lang\":\"en\",\"lon\":\"36.8219462\",\"lat\":\"-1.2920659\"}\n",
    "\n",
    "headers = {\n",
    "    'x-rapidapi-host': \"weatherbit-v1-mashape.p.rapidapi.com\",\n",
    "    'x-rapidapi-key': \"870480e1aamsh96e6e492e02203fp11faacjsndce42aecd5d0\"\n",
    "    }\n",
    "\n",
    "response = requests.request(\"GET\", url, headers=headers, params=querystring)\n",
    "request = json.loads(response.text)\n",
    "temperature = request[\"data\"][0]['temp']\n"
   ]
  },
  {
   "cell_type": "markdown",
   "metadata": {},
   "source": [
    "# Creating DF"
   ]
  },
  {
   "cell_type": "code",
   "execution_count": 36,
   "metadata": {},
   "outputs": [],
   "source": [
    "df_predict = pd.DataFrame(columns = ['Order No', 'User Id', 'Vehicle Type', 'Platform Type',\n",
    "       'Personal or Business', 'Placement - Day of Month',\n",
    "       'Placement - Weekday (Mo = 1)', 'Placement - Time',\n",
    "       'Confirmation - Day of Month', 'Confirmation - Weekday (Mo = 1)',\n",
    "       'Confirmation - Time', 'Arrival at Pickup - Day of Month',\n",
    "       'Arrival at Pickup - Weekday (Mo = 1)', 'Arrival at Pickup - Time',\n",
    "       'Pickup - Day of Month', 'Pickup - Weekday (Mo = 1)', 'Pickup - Time',\n",
    "       'Arrival at Destination - Day of Month',\n",
    "       'Arrival at Destination - Weekday (Mo = 1)',\n",
    "       'Arrival at Destination - Time', 'Distance (KM)', 'Temperature',\n",
    "       'Precipitation in millimeters', 'Pickup Lat', 'Pickup Long',\n",
    "       'Destination Lat', 'Destination Long', 'Rider Id',\n",
    "       'Time from Pickup to Arrival', 'No_Of_Orders', 'Age', 'Average_Rating',\n",
    "       'No_of_Ratings', 'Pickup_Hour', 'Speed_in_km/h', 'Week_end',\n",
    "       'pickup_long_lat', 'destination_long_lat', 'Pickup_Id',\n",
    "       'Destination_Id', 'sourceid_x', 'dstid', 'hod_x', 'week_end_or_not_x',\n",
    "       'std_travel_time', 'mean_travel_time', 'sourceid_y', 'hod_y',\n",
    "       'week_end_or_not_y', 'min_travel_time', 'sourceid', 'hod',\n",
    "       'week_end_or_not', 'min_std_travel_time', 'destination_clusters',\n",
    "       'pickup_clusters', 'pickup_pca0', 'pickup_pca1', 'dropoff_pca0',\n",
    "       'dropoff_pca1', 'Rush_Hour', 'Average_Rider_Speed'])\n"
   ]
  },
  {
   "cell_type": "code",
   "execution_count": 37,
   "metadata": {},
   "outputs": [],
   "source": [
    "for i in range(10) : \n",
    "    df_predict[\"Placement - Weekday (Mo = 1)\"] = day_of_week\n",
    "    df_predict[\"Placement - Day of Month\"] = day\n",
    "    df_predict['Distance (KM)'] = distance_in_km\n",
    "    df_predict[\"Platform Type\"] = platform_type\n",
    "    df_predict[\"Personal or Business\"] = Personnal_or_Business\n",
    "    df_predict[\"Pickup Lat\"] = pickup_lat\n",
    "    df_predict[\"Pickup Long\"] = pickup_long\n",
    "    df_predict[\"Destination Lat\"] = destination_lat\n",
    "    df_predict[\"Destination Long\"] = destination_long\n",
    "    df_predict[\"sourceid\"] = pickup_id\n",
    "    df_predict[\"dstid\"] = destination_id\n",
    "    df_predict[\"Pickup_Hour\"] = pick_up_hour\n",
    "    df_predict[\"Week_end\"] = week_end\n",
    "    df_predict['std_travel_time'] = std_travel_time\n",
    "    df_predict[\"mean_travel_time\"] = mean_travel_time\n",
    "    df_predict['pickup_pca0'] = pickup_pca_0\n",
    "    df_predict['pickup_pca1'] = pickup_pca_1\n",
    "    df_predict['dropoff_pca0'] = destination_pca_0\n",
    "    df_predict['dropoff_pca1'] = destination_pca_1\n",
    "    df_predict['pickup_clusters'] = pickup_cluster\n",
    "    df_predict[\"destination_clusters\"] = destination_cluster\n",
    "    df_predict['Rush_Hour'] = rush_hour\n",
    "    df_predict[\"Temperature\"] = temperature \n",
    "    df_predict[\"Age\"] = rider[\"Age\"].values\n",
    "    df_predict[\"Average_Rider_Speed\"] = rider[\"Average_Rider_Speed\"].values\n",
    "    df_predict[\"No_Of_Orders\"] = rider[\"No_Of_Orders\"].values\n",
    "    df_predict[\"Average_Rating\"] = rider[\"Average_Rating\"].values\n",
    "    df_predict[\"No_of_Ratings\"] = rider[\"No_of_Ratings\"].values\n",
    "\n"
   ]
  },
  {
   "cell_type": "markdown",
   "metadata": {},
   "source": [
    "## Dummies"
   ]
  },
  {
   "cell_type": "code",
   "execution_count": 38,
   "metadata": {},
   "outputs": [],
   "source": [
    "to_dummies = ['Platform Type',\n",
    "'Personal or Business',\n",
    "'Placement - Day of Month',\n",
    "'Pickup_Hour',\n",
    "'Pickup_Id',\n",
    "'Destination_Id',\n",
    "'Week_end',\n",
    "'destination_clusters',\n",
    "'pickup_clusters',\n",
    "'Rush_Hour',\n",
    "'Placement - Weekday (Mo = 1)']\n"
   ]
  },
  {
   "cell_type": "code",
   "execution_count": 39,
   "metadata": {},
   "outputs": [],
   "source": [
    "\n",
    "for col in to_dummies : \n",
    "    col_val = df_predict[col][0] \n",
    "    if col_val == 1 : \n",
    "        df_predict.rename(columns={col:f'{col}_2'}, inplace=True)\n",
    "        df_predict[f'{col}_2'] = 0\n",
    "    else : \n",
    "        df_predict.rename(columns={ col : f\"{col}_{col_val}\"},  inplace =True )\n",
    "        df_predict[f\"{col}_{col_val}\"] = 1"
   ]
  },
  {
   "cell_type": "code",
   "execution_count": 40,
   "metadata": {},
   "outputs": [],
   "source": [
    "columns = pickle.load( open( \"/Users/patrickmacclenihan/Desktop/final_project/DATA/columns\", \"rb\" ) )\n",
    "columns_to_drop = pickle.load( open( \"/Users/patrickmacclenihan/Desktop/final_project/DATA/columns_to_drop\", \"rb\" ) )\n",
    "\n"
   ]
  },
  {
   "cell_type": "code",
   "execution_count": 41,
   "metadata": {},
   "outputs": [],
   "source": [
    "for col in columns : \n",
    "    if col not in df_predict.columns: \n",
    "        df_predict[col] = 0 \n",
    "        "
   ]
  },
  {
   "cell_type": "code",
   "execution_count": 42,
   "metadata": {},
   "outputs": [
    {
     "data": {
      "text/plain": [
       "341"
      ]
     },
     "execution_count": 42,
     "metadata": {},
     "output_type": "execute_result"
    }
   ],
   "source": [
    "len(df_predict.columns)"
   ]
  },
  {
   "cell_type": "code",
   "execution_count": 43,
   "metadata": {},
   "outputs": [],
   "source": [
    "for col_to_drop in columns_to_drop : \n",
    "    if col_to_drop in df_predict.columns : \n",
    "        df_predict.drop(col_to_drop ,axis = 1 ,  inplace = True )"
   ]
  },
  {
   "cell_type": "code",
   "execution_count": 44,
   "metadata": {},
   "outputs": [
    {
     "name": "stdout",
     "output_type": "stream",
     "text": [
      "<class 'pandas.core.frame.DataFrame'>\n",
      "RangeIndex: 1 entries, 0 to 0\n",
      "Columns: 306 entries, Platform Type_0 to Destination_Id_72\n",
      "dtypes: float64(7), int64(298), object(1)\n",
      "memory usage: 2.5+ KB\n"
     ]
    }
   ],
   "source": [
    "df_predict.info()"
   ]
  },
  {
   "cell_type": "code",
   "execution_count": 45,
   "metadata": {},
   "outputs": [
    {
     "name": "stdout",
     "output_type": "stream",
     "text": [
      "There are 1 categorical variables\n",
      "\n",
      "Categorical variables are  : \n",
      " ['week_end_or_not']\n"
     ]
    }
   ],
   "source": [
    "categorical = [var for var in df_predict.columns if df_predict[var].dtype=='O']\n",
    "print('There are {} categorical variables\\n'.format(len(categorical)))\n",
    "print(\"Categorical variables are  : \\n\", categorical)"
   ]
  },
  {
   "cell_type": "code",
   "execution_count": 46,
   "metadata": {},
   "outputs": [],
   "source": [
    "for col in df_predict : \n",
    "    if col not in columns : \n",
    "        df_predict.drop(col, axis = 1) "
   ]
  },
  {
   "cell_type": "code",
   "execution_count": 47,
   "metadata": {},
   "outputs": [],
   "source": [
    "df_train = pickle.load( open( \"/Users/patrickmacclenihan/Desktop/final_project/JP notebooks/train_data_ready\", \"rb\" ) )\n"
   ]
  },
  {
   "cell_type": "code",
   "execution_count": 48,
   "metadata": {
    "scrolled": true
   },
   "outputs": [
    {
     "data": {
      "text/plain": [
       "['Platform Type_0',\n",
       " 'Personal or Business_2',\n",
       " 'Placement - Weekday (Mo = 1)_0',\n",
       " 'Week_end_0',\n",
       " 'Pickup_Id_nan',\n",
       " 'Destination_Id_nan',\n",
       " 'Rush_Hour_0']"
      ]
     },
     "execution_count": 48,
     "metadata": {},
     "output_type": "execute_result"
    }
   ],
   "source": [
    "last_col_remove = []\n",
    "for i in df_predict : \n",
    "    if i not in df_train : \n",
    "        last_col_remove.append(i)\n",
    "last_col_remove"
   ]
  },
  {
   "cell_type": "code",
   "execution_count": 49,
   "metadata": {},
   "outputs": [],
   "source": [
    "while len(df_predict.columns) >= 300 : \n",
    "    for col in last_col_remove : \n",
    "        df_predict.drop(col, axis = 1, inplace = True)\n",
    "    "
   ]
  },
  {
   "cell_type": "code",
   "execution_count": 50,
   "metadata": {},
   "outputs": [],
   "source": [
    "for i in df_predict : \n",
    "    if i not in df_train : \n",
    "        print(i)"
   ]
  },
  {
   "cell_type": "code",
   "execution_count": 51,
   "metadata": {},
   "outputs": [],
   "source": [
    "df_predict.fillna(0, inplace = True )"
   ]
  },
  {
   "cell_type": "code",
   "execution_count": 52,
   "metadata": {},
   "outputs": [
    {
     "name": "stdout",
     "output_type": "stream",
     "text": [
      "<class 'pandas.core.frame.DataFrame'>\n",
      "RangeIndex: 1 entries, 0 to 0\n",
      "Columns: 299 entries, Placement - Day of Month_15 to Destination_Id_72\n",
      "dtypes: float64(7), int64(292)\n",
      "memory usage: 2.5 KB\n"
     ]
    }
   ],
   "source": [
    "df_predict.info()"
   ]
  },
  {
   "cell_type": "markdown",
   "metadata": {},
   "source": [
    "# Predict"
   ]
  },
  {
   "cell_type": "code",
   "execution_count": 84,
   "metadata": {},
   "outputs": [],
   "source": [
    "model = pickle.load( open(\"/Users/patrickmacclenihan/Desktop/final_project/JP notebooks/model_finalized\", \"rb\" ) )"
   ]
  },
  {
   "cell_type": "code",
   "execution_count": 85,
   "metadata": {},
   "outputs": [],
   "source": [
    "prediction = model.predict(df_predict)\n"
   ]
  },
  {
   "cell_type": "code",
   "execution_count": 139,
   "metadata": {},
   "outputs": [],
   "source": [
    "prediction = round(model.predict(df_predict).tolist()[0]) / 60\n"
   ]
  },
  {
   "cell_type": "code",
   "execution_count": null,
   "metadata": {},
   "outputs": [],
   "source": []
  },
  {
   "cell_type": "code",
   "execution_count": 60,
   "metadata": {},
   "outputs": [],
   "source": [
    "pickup_up_time = datetime(int(year),int(month),int(day), int(pick_up_hour), int(pick_up_min)) "
   ]
  },
  {
   "cell_type": "code",
   "execution_count": 67,
   "metadata": {},
   "outputs": [
    {
     "data": {
      "text/plain": [
       "datetime.timedelta(seconds=2547)"
      ]
     },
     "execution_count": 67,
     "metadata": {},
     "output_type": "execute_result"
    }
   ],
   "source": [
    "\n",
    "from datetime import timedelta\n",
    "timedelta(seconds=round(prediction.tolist()[0]) )"
   ]
  },
  {
   "cell_type": "code",
   "execution_count": 79,
   "metadata": {},
   "outputs": [],
   "source": [
    "delivery_time_date = datetime(int(year),int(month),int(day), int(pick_up_hour), int(pick_up_min))  +  timedelta(seconds=round(prediction.tolist()[0]) ) \n",
    "delivery_date = delivery_time_date.strftime(\"%m/%d/%Y\")\n",
    "delivery_time = delivery_time_date.strftime(\"%H:%M\")"
   ]
  },
  {
   "cell_type": "code",
   "execution_count": 83,
   "metadata": {},
   "outputs": [
    {
     "data": {
      "text/plain": [
       "'Your parcel will be deliver on : 06/15/2020 at 15:12'"
      ]
     },
     "execution_count": 83,
     "metadata": {},
     "output_type": "execute_result"
    }
   ],
   "source": [
    "\n"
   ]
  },
  {
   "cell_type": "markdown",
   "metadata": {},
   "source": [
    "# Twilio Text"
   ]
  },
  {
   "cell_type": "code",
   "execution_count": 120,
   "metadata": {},
   "outputs": [],
   "source": [
    "phone_number = '0688942346'\n",
    "phone_number = '+33' + phone_number[1:]\n"
   ]
  },
  {
   "cell_type": "code",
   "execution_count": 121,
   "metadata": {},
   "outputs": [
    {
     "name": "stdout",
     "output_type": "stream",
     "text": [
      "SMc9e16974f0ae4abe9becc6f1b8c2ea4c\n"
     ]
    }
   ],
   "source": [
    "\n",
    "from twilio.rest import Client\n",
    "\n",
    "\n",
    "# Your Account Sid and Auth Token from twilio.com/console\n",
    "# DANGER! This is insecure. See http://twil.io/secure\n",
    "account_sid = '//'\n",
    "auth_token = '//'\n",
    "client = Client(account_sid, auth_token)\n",
    "\n",
    "\n",
    "message = client.messages.create(\n",
    "                              body='Hi there!',\n",
    "                              from_='+12056971552',\n",
    "                              to= phone_number\n",
    "                          )\n",
    "\n",
    "print(message.sid)\n"
   ]
  },
  {
   "cell_type": "markdown",
   "metadata": {},
   "source": [
    "# foluim Map"
   ]
  },
  {
   "cell_type": "code",
   "execution_count": 96,
   "metadata": {},
   "outputs": [],
   "source": [
    "import folium "
   ]
  },
  {
   "cell_type": "code",
   "execution_count": 100,
   "metadata": {},
   "outputs": [],
   "source": [
    "pickup_location = \" Kilimani, Nairobi, Kenya\"\n",
    "destination_location = \"8 Quarry Rd, Nairobi, Kenya\"\n",
    "\n",
    "geolocator = Nominatim(user_agent=\"patrick_app\")\n",
    "pikcup_coord = geolocator.geocode(str(pickup_location))\n",
    "destination_coord = geolocator.geocode(str(destination_location))\n"
   ]
  },
  {
   "cell_type": "code",
   "execution_count": 103,
   "metadata": {},
   "outputs": [
    {
     "data": {
      "text/plain": [
       "-1.2874422"
      ]
     },
     "execution_count": 103,
     "metadata": {},
     "output_type": "execute_result"
    }
   ],
   "source": [
    "pikcup_coord[1][0]"
   ]
  },
  {
   "cell_type": "code",
   "execution_count": 111,
   "metadata": {},
   "outputs": [
    {
     "data": {
      "text/html": [
       "<div style=\"width:100%;\"><div style=\"position:relative;width:100%;height:0;padding-bottom:60%;\"><span style=\"color:#565656\">Make this Notebook Trusted to load map: File -> Trust Notebook</span><iframe src=\"about:blank\" style=\"position:absolute;width:100%;height:100%;left:0;top:0;border:none !important;\" data-html=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 onload=\"this.contentDocument.open();this.contentDocument.write(atob(this.getAttribute('data-html')));this.contentDocument.close();\" allowfullscreen webkitallowfullscreen mozallowfullscreen></iframe></div></div>"
      ],
      "text/plain": [
       "<folium.folium.Map at 0x11ff18510>"
      ]
     },
     "execution_count": 111,
     "metadata": {},
     "output_type": "execute_result"
    }
   ],
   "source": [
    "NAIROBI =(-1.2920659,36.8219462)\n",
    "base_map= folium.Map(location= NAIROBI, min_zoom = 11,\n",
    "                      zoom_start=11, tiles= 'cartodbpositron')\n",
    "\n",
    "\n",
    "folium.CircleMarker(location=[pikcup_coord[1][0], pikcup_coord[1][1]],\n",
    "                            radius=10,\n",
    "                            tooltip=None,\n",
    "                            color='#44b07aff',\n",
    "                            fill_color='#44b07aff',\n",
    "                            fill=True).add_to(base_map)       \n",
    "\n",
    "folium.CircleMarker(location=[destination_coord[1][0], destination_coord[1][1]],\n",
    "                            radius=10,\n",
    "                            tooltip=None,\n",
    "                            color='#11ABF9 ',\n",
    "                            fill_color='#11ABF9 ',\n",
    "                            fill=True).add_to(base_map)  \n",
    "\n",
    "base_map \n",
    "\n"
   ]
  },
  {
   "cell_type": "code",
   "execution_count": 114,
   "metadata": {},
   "outputs": [],
   "source": [
    "base_map.save(\"Prediciton_Map.html\")"
   ]
  },
  {
   "cell_type": "code",
   "execution_count": 115,
   "metadata": {},
   "outputs": [
    {
     "data": {
      "text/html": [
       "<!DOCTYPE html>\n",
       "<head>    \n",
       "    <meta http-equiv=\"content-type\" content=\"text/html; charset=UTF-8\" />\n",
       "    \n",
       "        <script>\n",
       "            L_NO_TOUCH = false;\n",
       "            L_DISABLE_3D = false;\n",
       "        </script>\n",
       "    \n",
       "    <script src=\"https://cdn.jsdelivr.net/npm/leaflet@1.6.0/dist/leaflet.js\"></script>\n",
       "    <script src=\"https://code.jquery.com/jquery-1.12.4.min.js\"></script>\n",
       "    <script src=\"https://maxcdn.bootstrapcdn.com/bootstrap/3.2.0/js/bootstrap.min.js\"></script>\n",
       "    <script src=\"https://cdnjs.cloudflare.com/ajax/libs/Leaflet.awesome-markers/2.0.2/leaflet.awesome-markers.js\"></script>\n",
       "    <link rel=\"stylesheet\" href=\"https://cdn.jsdelivr.net/npm/leaflet@1.6.0/dist/leaflet.css\"/>\n",
       "    <link rel=\"stylesheet\" href=\"https://maxcdn.bootstrapcdn.com/bootstrap/3.2.0/css/bootstrap.min.css\"/>\n",
       "    <link rel=\"stylesheet\" href=\"https://maxcdn.bootstrapcdn.com/bootstrap/3.2.0/css/bootstrap-theme.min.css\"/>\n",
       "    <link rel=\"stylesheet\" href=\"https://maxcdn.bootstrapcdn.com/font-awesome/4.6.3/css/font-awesome.min.css\"/>\n",
       "    <link rel=\"stylesheet\" href=\"https://cdnjs.cloudflare.com/ajax/libs/Leaflet.awesome-markers/2.0.2/leaflet.awesome-markers.css\"/>\n",
       "    <link rel=\"stylesheet\" href=\"https://rawcdn.githack.com/python-visualization/folium/master/folium/templates/leaflet.awesome.rotate.css\"/>\n",
       "    <style>html, body {width: 100%;height: 100%;margin: 0;padding: 0;}</style>\n",
       "    <style>#map {position:absolute;top:0;bottom:0;right:0;left:0;}</style>\n",
       "    \n",
       "            <meta name=\"viewport\" content=\"width=device-width,\n",
       "                initial-scale=1.0, maximum-scale=1.0, user-scalable=no\" />\n",
       "            <style>\n",
       "                #map_5a9a5c5718604c3793ed6f487c8a9f58 {\n",
       "                    position: relative;\n",
       "                    width: 100.0%;\n",
       "                    height: 100.0%;\n",
       "                    left: 0.0%;\n",
       "                    top: 0.0%;\n",
       "                }\n",
       "            </style>\n",
       "        \n",
       "</head>\n",
       "<body>    \n",
       "    \n",
       "            <div class=\"folium-map\" id=\"map_5a9a5c5718604c3793ed6f487c8a9f58\" ></div>\n",
       "        \n",
       "</body>\n",
       "<script>    \n",
       "    \n",
       "            var map_5a9a5c5718604c3793ed6f487c8a9f58 = L.map(\n",
       "                \"map_5a9a5c5718604c3793ed6f487c8a9f58\",\n",
       "                {\n",
       "                    center: [-1.2920659, 36.8219462],\n",
       "                    crs: L.CRS.EPSG3857,\n",
       "                    zoom: 11,\n",
       "                    zoomControl: true,\n",
       "                    preferCanvas: false,\n",
       "                }\n",
       "            );\n",
       "\n",
       "            \n",
       "\n",
       "        \n",
       "    \n",
       "            var tile_layer_4fe2778a03b34ba2a702d83c2ffc8b2a = L.tileLayer(\n",
       "                \"https://cartodb-basemaps-{s}.global.ssl.fastly.net/light_all/{z}/{x}/{y}.png\",\n",
       "                {\"attribution\": \"\\u0026copy; \\u003ca href=\\\"http://www.openstreetmap.org/copyright\\\"\\u003eOpenStreetMap\\u003c/a\\u003e contributors \\u0026copy; \\u003ca href=\\\"http://cartodb.com/attributions\\\"\\u003eCartoDB\\u003c/a\\u003e, CartoDB \\u003ca href =\\\"http://cartodb.com/attributions\\\"\\u003eattributions\\u003c/a\\u003e\", \"detectRetina\": false, \"maxNativeZoom\": 18, \"maxZoom\": 18, \"minZoom\": 11, \"noWrap\": false, \"opacity\": 1, \"subdomains\": \"abc\", \"tms\": false}\n",
       "            ).addTo(map_5a9a5c5718604c3793ed6f487c8a9f58);\n",
       "        \n",
       "    \n",
       "            var circle_marker_a011b943260749d888cbe79ff9c94437 = L.circleMarker(\n",
       "                [-1.2874422, 36.7845225],\n",
       "                {\"bubblingMouseEvents\": true, \"color\": \"#44b07aff\", \"dashArray\": null, \"dashOffset\": null, \"fill\": true, \"fillColor\": \"#44b07aff\", \"fillOpacity\": 0.2, \"fillRule\": \"evenodd\", \"lineCap\": \"round\", \"lineJoin\": \"round\", \"opacity\": 1.0, \"radius\": 10, \"stroke\": true, \"weight\": 3}\n",
       "            ).addTo(map_5a9a5c5718604c3793ed6f487c8a9f58);\n",
       "        \n",
       "    \n",
       "            var circle_marker_37e26f62c64841f8ac47250f9dc10f8d = L.circleMarker(\n",
       "                [-1.2821967, 36.8361819],\n",
       "                {\"bubblingMouseEvents\": true, \"color\": \"#11ABF9 \", \"dashArray\": null, \"dashOffset\": null, \"fill\": true, \"fillColor\": \"#11ABF9 \", \"fillOpacity\": 0.2, \"fillRule\": \"evenodd\", \"lineCap\": \"round\", \"lineJoin\": \"round\", \"opacity\": 1.0, \"radius\": 10, \"stroke\": true, \"weight\": 3}\n",
       "            ).addTo(map_5a9a5c5718604c3793ed6f487c8a9f58);\n",
       "        \n",
       "</script>"
      ],
      "text/plain": [
       "<IPython.core.display.HTML object>"
      ]
     },
     "execution_count": 115,
     "metadata": {},
     "output_type": "execute_result"
    }
   ],
   "source": [
    "import IPython\n",
    "IPython.display.HTML(filename='Prediciton_Map.html')"
   ]
  }
 ],
 "metadata": {
  "kernelspec": {
   "display_name": "Python 3",
   "language": "python",
   "name": "python3"
  },
  "language_info": {
   "codemirror_mode": {
    "name": "ipython",
    "version": 3
   },
   "file_extension": ".py",
   "mimetype": "text/x-python",
   "name": "python",
   "nbconvert_exporter": "python",
   "pygments_lexer": "ipython3",
   "version": "3.7.6"
  },
  "toc": {
   "base_numbering": 1,
   "nav_menu": {},
   "number_sections": true,
   "sideBar": true,
   "skip_h1_title": false,
   "title_cell": "Table of Contents",
   "title_sidebar": "Contents",
   "toc_cell": false,
   "toc_position": {},
   "toc_section_display": true,
   "toc_window_display": false
  },
  "varInspector": {
   "cols": {
    "lenName": 16,
    "lenType": 16,
    "lenVar": 40
   },
   "kernels_config": {
    "python": {
     "delete_cmd_postfix": "",
     "delete_cmd_prefix": "del ",
     "library": "var_list.py",
     "varRefreshCmd": "print(var_dic_list())"
    },
    "r": {
     "delete_cmd_postfix": ") ",
     "delete_cmd_prefix": "rm(",
     "library": "var_list.r",
     "varRefreshCmd": "cat(var_dic_list()) "
    }
   },
   "types_to_exclude": [
    "module",
    "function",
    "builtin_function_or_method",
    "instance",
    "_Feature"
   ],
   "window_display": false
  }
 },
 "nbformat": 4,
 "nbformat_minor": 4
}
